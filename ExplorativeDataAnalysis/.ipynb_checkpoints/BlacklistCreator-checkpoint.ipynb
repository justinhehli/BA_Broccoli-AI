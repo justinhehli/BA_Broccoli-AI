{
 "cells": [
  {
   "cell_type": "code",
   "execution_count": 37,
   "metadata": {},
   "outputs": [
    {
     "data": {
      "text/html": [
       "<div>\n",
       "<style scoped>\n",
       "    .dataframe tbody tr th:only-of-type {\n",
       "        vertical-align: middle;\n",
       "    }\n",
       "\n",
       "    .dataframe tbody tr th {\n",
       "        vertical-align: top;\n",
       "    }\n",
       "\n",
       "    .dataframe thead th {\n",
       "        text-align: right;\n",
       "    }\n",
       "</style>\n",
       "<table border=\"1\" class=\"dataframe\">\n",
       "  <thead>\n",
       "    <tr style=\"text-align: right;\">\n",
       "      <th></th>\n",
       "      <th>id</th>\n",
       "      <th>pixelCount</th>\n",
       "      <th>toBlacklist</th>\n",
       "    </tr>\n",
       "  </thead>\n",
       "  <tbody>\n",
       "    <tr>\n",
       "      <th>18</th>\n",
       "      <td>282</td>\n",
       "      <td>96</td>\n",
       "      <td>1</td>\n",
       "    </tr>\n",
       "  </tbody>\n",
       "</table>\n",
       "</div>"
      ],
      "text/plain": [
       "     id  pixelCount  toBlacklist\n",
       "18  282          96            1"
      ]
     },
     "execution_count": 37,
     "metadata": {},
     "output_type": "execute_result"
    }
   ],
   "source": [
    "# Erstellt Einträge in der Datenbank-Tabelle broccoliBlacklist. Diese Datensätze werden später ignoriert\n",
    "import pyodbc\n",
    "import pandas as pd\n",
    "import glob\n",
    "\n",
    "# CSV einlesen und Datensätze filtern, die in DB geschrieben werden sollen\n",
    "date = '2019-05-16'\n",
    "if date == '':\n",
    "    csv_files = glob.glob(\"pixelCount_notableIDs_*.csv\")\n",
    "else:\n",
    "    csv_files = glob.glob(\"pixelCount_notableIDs_\" + date + \".csv\")\n",
    "\n",
    "blacklist = pd.concat([pd.read_csv(f, delimiter=';') for f in csv_files], ignore_index = True, sort=False)\n",
    "blacklist = blacklist[blacklist.toBlacklist == 1]\n",
    "blacklist"
   ]
  },
  {
   "cell_type": "code",
   "execution_count": 39,
   "metadata": {},
   "outputs": [
    {
     "data": {
      "text/html": [
       "<div>\n",
       "<style scoped>\n",
       "    .dataframe tbody tr th:only-of-type {\n",
       "        vertical-align: middle;\n",
       "    }\n",
       "\n",
       "    .dataframe tbody tr th {\n",
       "        vertical-align: top;\n",
       "    }\n",
       "\n",
       "    .dataframe thead th {\n",
       "        text-align: right;\n",
       "    }\n",
       "</style>\n",
       "<table border=\"1\" class=\"dataframe\">\n",
       "  <thead>\n",
       "    <tr style=\"text-align: right;\">\n",
       "      <th></th>\n",
       "      <th>broccoli_id</th>\n",
       "      <th>reason</th>\n",
       "    </tr>\n",
       "  </thead>\n",
       "  <tbody>\n",
       "    <tr>\n",
       "      <th>0</th>\n",
       "      <td>282</td>\n",
       "      <td>EDA</td>\n",
       "    </tr>\n",
       "  </tbody>\n",
       "</table>\n",
       "</div>"
      ],
      "text/plain": [
       "   broccoli_id reason\n",
       "0          282    EDA"
      ]
     },
     "execution_count": 39,
     "metadata": {},
     "output_type": "execute_result"
    }
   ],
   "source": [
    "# Azure-DB Verbindungsaufbau und INSERT\n",
    "server = 'deepbroccoliserver.database.windows.net'\n",
    "database = 'DeepBroccoliDatabase'\n",
    "username = 'ntb'\n",
    "password = 'brokkoli_2019'\n",
    "driver= '{SQL Server}'\n",
    "conn = pyodbc.connect('DRIVER='+driver+';SERVER='+server+';PORT=1433;DATABASE='+database+';UID='+username+';PWD='+ password)\n",
    "cursor = conn.cursor()\n",
    "\n",
    "for index, row in blacklist.iterrows():    \n",
    "    cursor.execute('''\n",
    "                    IF NOT EXISTS (SELECT * FROM dbo.broccoliBlacklist WHERE broccoli_id = ''' + str(row['id']) + ''')\n",
    "                    BEGIN\n",
    "                        INSERT INTO dbo.broccoliBlacklist (broccoli_id, reason)\n",
    "                        VALUES (''' + str(row['id']) + ', \\'EDA\\'' + ''')\n",
    "                    END\n",
    "                    ''')\n",
    "\n",
    "conn.commit()\n",
    "\n",
    "SQL_Query = pd.read_sql_query(''' select * from dbo.broccoliBlacklist''', conn)\n",
    "sqlBlacklist = pd.DataFrame(SQL_Query)\n",
    "sqlBlacklist"
   ]
  }
 ],
 "metadata": {
  "kernelspec": {
   "display_name": "Python 3",
   "language": "python",
   "name": "python3"
  },
  "language_info": {
   "codemirror_mode": {
    "name": "ipython",
    "version": 3
   },
   "file_extension": ".py",
   "mimetype": "text/x-python",
   "name": "python",
   "nbconvert_exporter": "python",
   "pygments_lexer": "ipython3",
   "version": "3.7.1"
  }
 },
 "nbformat": 4,
 "nbformat_minor": 2
}
