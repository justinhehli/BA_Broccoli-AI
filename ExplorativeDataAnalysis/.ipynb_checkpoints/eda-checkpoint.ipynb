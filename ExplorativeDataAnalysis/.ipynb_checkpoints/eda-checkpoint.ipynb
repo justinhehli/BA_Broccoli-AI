{
 "cells": [
  {
   "cell_type": "markdown",
   "metadata": {},
   "source": [
    "# Explorative Datenanalyse\n",
    "Im Folgenden werden die gemessenen Index-Werte der Brokkoli analysiert. Im Vorfeld wurden diese bereits innerhalb der Voronoi-Zellen segmentiert, das heisst Es werden nur noch die Pixel gewertet, welche zum Brokkoli gehören, ohne die Erde darum zu berücksichtigen."
   ]
  },
  {
   "cell_type": "code",
   "execution_count": null,
   "metadata": {},
   "outputs": [],
   "source": [
    "%reset\n",
    "\n",
    "# Datenabfrage von Server-DB\n",
    "import pyodbc\n",
    "import pandas as pd\n",
    "import matplotlib.pyplot as plt\n",
    "import numpy as np\n",
    "\n",
    "class font:\n",
    "    BOLD = '\\033[1m'\n",
    "    END = '\\033[0m'\n",
    "    UNDERLINE = '\\033[4m'\n",
    "\n",
    "# Liste der Daten, die berücksichtigt werden\n",
    "dates = ['2019-04-18', '2019-04-25', '2019-05-01', '2019-05-09', '2019-05-16', '2019-05-24', '2019-06-04','2019-06-13', \n",
    "         '2019-06-18']\n",
    "\n",
    "# Verbindungsaufbau\n",
    "server = 'deepbroccoliserver.database.windows.net'\n",
    "database = 'DeepBroccoliDatabase'\n",
    "username = 'ntb'\n",
    "password = 'brokkoli_2019'\n",
    "driver= '{SQL Server}'\n",
    "cnxn = pyodbc.connect('DRIVER='+driver+';SERVER='+server+';PORT=1433;DATABASE='+database+';UID='+username+';PWD='+ password)\n",
    "\n",
    "# Abfrage definieren und ausführen: Alle Brokkoli mit allen dazugehörigen Messwerten \n",
    "query = '''\n",
    "SELECT\n",
    "    dbo.broccoli.id, dbo.broccoli.cropWeight, dbo.broccoli.cropMissing, dbo.broccoli.cropOverripe, \n",
    "    dbo.broccoli.cropRudimentary, dbo.broccoli.cropRotten, dbo.broccoli.cropUnripe, dbo.broccoli.cropNoBlossom, \n",
    "    dbo.broccoli.rowNumber, \n",
    "    dbo.broccolivalues.timestamp, dbo.broccoli.lat, dbo.broccoli.long, dbo.broccolivalues.pixelCount, \n",
    "    dbo.broccolivalues.maxNDVI, dbo.broccolivalues.minNDVI, dbo.broccolivalues.meanNDVI, dbo.broccolivalues.medianNDVI, \n",
    "    dbo.broccolivalues.NDVI_15_QUANTILE, dbo.broccolivalues.NDVI_25_QUANTILE, dbo.broccolivalues.NDVI_75_QUANTILE, \n",
    "    dbo.broccolivalues.NDVI_85_QUANTILE,\n",
    "    dbo.broccolivalues.maxNDRE, dbo.broccolivalues.minNDRE, dbo.broccolivalues.meanNDRE, dbo.broccolivalues.medianNDRE,\n",
    "    dbo.broccolivalues.NDRE_15_QUANTILE, dbo.broccolivalues.NDRE_25_QUANTILE, dbo.broccolivalues.NDRE_75_QUANTILE,\n",
    "    dbo.broccolivalues.NDRE_85_QUANTILE\n",
    "FROM \n",
    "    dbo.broccoli INNER JOIN dbo.broccolivalues ON dbo.broccoli.id = dbo.broccolivalues.id\n",
    "WHERE\n",
    "    dbo.broccoli.id NOT IN (SELECT broccoli_id FROM dbo.broccoliBlacklist)\n",
    "    AND dbo.broccolivalues.timestamp IN (''' + \"\\'\" + \"\\', \\'\".join(dates) + \"\\')\"\n",
    "\n",
    "broccoli_data = pd.read_sql_query(query, cnxn)\n",
    "cnxn.close()\n",
    "\n",
    "# Löschen von Datensätzen mit NaN-Werten (Ist der Fall falls pixelCount == 0)\n",
    "#print()\n",
    "#print(\"Anzahl Datensätze: \" + str(len(broccoli_data)))\n",
    "\n",
    "#broccoli_data.dropna(inplace=True)\n",
    "#print(\"Anzahl Datensätze ohne NaN: \" + str(len(broccoli_data)))\n",
    "#print()\n",
    "\n",
    "# Describe: Erste Übersicht\n",
    "for date in dates:    \n",
    "    broccoli_data_byDate = broccoli_data[broccoli_data.timestamp == date]\n",
    "    print(font.BOLD + font.UNDERLINE + date + font.END)\n",
    "    display(broccoli_data_byDate.describe())\n",
    "    print()"
   ]
  },
  {
   "cell_type": "code",
   "execution_count": null,
   "metadata": {},
   "outputs": [],
   "source": [
    "# True/False Erntelabels zu 0/1\n",
    "broccoli_data.cropMissing = broccoli_data.cropMissing.astype(int)\n",
    "broccoli_data.cropOverripe = broccoli_data.cropOverripe.astype(int)\n",
    "broccoli_data.cropRudimentary = broccoli_data.cropRudimentary.astype(int)\n",
    "broccoli_data.cropRotten = broccoli_data.cropRotten.astype(int)\n",
    "broccoli_data.cropUnripe = broccoli_data.cropUnripe.astype(int)\n",
    "broccoli_data.cropNoBlossom = broccoli_data.cropNoBlossom.astype(int)\n"
   ]
  },
  {
   "cell_type": "markdown",
   "metadata": {},
   "source": [
    "## Analyse der Pixel-Anzahl (pixelCount)\n",
    "Als erstes werden die Anzahl Pixel, die nach der Segmentierung eine Brokkoli-Pflanze darstellen, analysiert. Hier wird versucht, inkorrekt oders seltsam segmentierte Daten zu finden."
   ]
  },
  {
   "cell_type": "code",
   "execution_count": null,
   "metadata": {},
   "outputs": [],
   "source": [
    "# Schriftgrösse für Plots definieren\n",
    "plt.rcParams.update({'font.size': 15})\n",
    "\n",
    "# Boxplot der Pixelanzahl gruppiert nach Datum\n",
    "broccoli_data.boxplot(by=\"timestamp\", column=['pixelCount'], figsize=(10,8))\n",
    "plt.xticks(rotation=45)"
   ]
  },
  {
   "cell_type": "markdown",
   "metadata": {},
   "source": [
    "### Zwischenfazit Pixel-Anzahl Boxplot\n",
    "Es ist komisch, dass vom 13.06.19 auf den 18.06.19 der pixelCount niedriger wird.<br>\n",
    "ToDo: Die Segmentierung muss geprüft und allenfalls überarbeitet werden."
   ]
  },
  {
   "cell_type": "code",
   "execution_count": null,
   "metadata": {},
   "outputs": [],
   "source": [
    "# Analyse pixelCount: Datensätze in Bereich ausserhalb bestimmter Quantile analysieren\n",
    "# Erstellung von CSV und HTML Export zur manuellen Analyse und Erstellung eine Blacklist mit inkorrekt segmentierten Datensätzen\n",
    "\n",
    "pixelCountNotable = pd.DataFrame()\n",
    "for date in dates:    \n",
    "    # Listen mit Pflanzen mit pixelCount > [quantile_Lower]-Quantil bzw. < [quantile_Upper]-Quantil erstellen\n",
    "    broccoli_data_byDate = broccoli_data[broccoli_data.timestamp == date]\n",
    "    \n",
    "    quantile_Lower = 0.03\n",
    "    quantile_Upper = 0.97\n",
    "    \n",
    "    underLowerQuant = broccoli_data_byDate[broccoli_data_byDate.pixelCount < \n",
    "                                        broccoli_data_byDate['pixelCount'].quantile(quantile_Lower)][['id', 'pixelCount']]\n",
    "    overUpperQuant = broccoli_data_byDate[broccoli_data_byDate.pixelCount > \n",
    "                                       broccoli_data_byDate['pixelCount'].quantile(quantile_Upper)][['id', 'pixelCount']]\n",
    "    \n",
    "    # Liste aller gefilterter IDs nach Datum erstellen\n",
    "    underLowerQuant[date + \"_Under\"] = 1\n",
    "    overUpperQuant[date + \"_Over\"] = 1\n",
    "    underLowerQuant.set_index('id', inplace=True)\n",
    "    overUpperQuant.set_index('id', inplace=True)\n",
    "    pixelCountNotable = pd.concat([pixelCountNotable, underLowerQuant[date + \"_Under\"]], axis=1)\n",
    "    pixelCountNotable = pd.concat([pixelCountNotable, overUpperQuant[date + \"_Over\"]], axis=1)    \n",
    "    underLowerQuant.drop([date + \"_Under\"], axis=1, inplace=True)\n",
    "    overUpperQuant.drop([date + \"_Over\"], axis=1, inplace=True)\n",
    "    underLowerQuant.reset_index(inplace=True)\n",
    "    overUpperQuant.reset_index(inplace=True)\n",
    "    \n",
    "    # CSV mit IDs der Pflanzen mit pixelCount < [quantile_Lower]-Quantil oder > [quantile_Upper]-Quantil erstellen\n",
    "    underLowerQuant['toBlacklist']= 0\n",
    "    overUpperQuant['toBlacklist']= 0\n",
    "    np.savetxt(\"pixelCount_notableIDs_\" + date + \".csv\", pd.concat([underLowerQuant, overUpperQuant]), \n",
    "               header=\"id;pixelCount;toBlacklist\", delimiter=\";\", fmt=\"%d\", comments='')    \n",
    "    \n",
    "    # HTML mit den Segmentierungs-Bildern erstellen\n",
    "    strHtml = \"\"\n",
    "    for index, row in pd.concat([underLowerQuant, overUpperQuant]).iterrows():\n",
    "        strId = str(row[\"id\"])\n",
    "        strHtml += \"<p>#\" + strId + \" ; pixelCount = \" + str(row[\"pixelCount\"]) + \"</p>\\n\"\n",
    "        strHtml += \"<img src=\\\"\\\\\\\\fs004\\\\ice\\\\Lehre\\\\Bachelorarbeiten\\\\2019\\\\Pflanzen\\\\Drohnenaufnahmen\\\\\" \\\n",
    "        + (str(date)).replace('-', '') + \"\\\\report\\\\images\\\\\" + strId + \"\\\\ndvi_ndre_cutout_comparision_\" + strId + \".png\\\">\\n\"\n",
    "       \n",
    "    \n",
    "    html = open(\"pixelCount_NotableImages_\" + date + \".html\", 'w')\n",
    "    html.write(strHtml)\n",
    "    html.close()\n",
    "    \n",
    "    # Ausgabe der Anzahlen\n",
    "    nofUnderLowerQuant = len(underLowerQuant)\n",
    "    nofOverUpperQuant = len(overUpperQuant)\n",
    "    \n",
    "    print(date + \":: <\" + str(quantile_Lower*100) + \"%; \" + str(nofUnderLowerQuant) + \" | >\" + str(quantile_Upper*100) + \"%; \"\n",
    "          + str(nofOverUpperQuant))\n",
    "    \n",
    "# Ausgabe Liste aller gefilterter IDs nach Datum\n",
    "pixelCountNotable.fillna(value=0, inplace=True)\n",
    "pixelCountNotable.to_csv(\"pixelCount_Notable_PerDate.csv\", sep=';')"
   ]
  },
  {
   "cell_type": "markdown",
   "metadata": {},
   "source": [
    "### Zwischenfazit pixelCount, Stand 21.05.2019\n",
    "Da im Boxplot ersichtlich ist, dass es einige Ausreisser gibt, werden die Datensätze mit pixelCount ausserhalb der 2%- bzw. 98%-Quantile genauer untersucht (Muss allenfalls auf z.B. 5%, 95% ausgeweitet werden). Dazu werden je Datum eine CSV- und eine HTML-Datei erstellt, mit den IDs, dem pixelCount und den Vergleichsbildern der Segmentierung (im HTML). Diese müssen manuell kontrolliert werden, danach können Datensätze entweder gelöscht oder angepasst werden.\n",
    "Im Vergleich zu den alten Daten (nicht mehr ersichtlich da überschrieben), gibt es aber vorallem nach oben, über der 75%-Quantils-Grenze, weniger krasse Ausreisser."
   ]
  },
  {
   "cell_type": "markdown",
   "metadata": {},
   "source": [
    "## Analyse der NDVI und NDRE Messwerte\n",
    "Im Folgenden werden die aggregierten NDVI und NDRE Werte der segmentierten Bilder analysiert. Es werden Ausreisser und auffällige Messwerte gesucht, zeitliche Verläufe der Werte, und Abhängigkeiten zwischen den Indizes. Ein Plot mit y-Achse = NDRE und x-Achse = NDVI würde die Grundlage für die Berechnung des CCCI bilden.\n",
    "\n",
    "## NDVI"
   ]
  },
  {
   "cell_type": "code",
   "execution_count": null,
   "metadata": {},
   "outputs": [],
   "source": [
    "# Boxplot der NDVI-Werte gruppiert nach Datum\n",
    "columns = ['maxNDVI', 'NDVI_85_QUANTILE', 'minNDVI', 'NDVI_15_QUANTILE', 'meanNDVI', 'medianNDVI']\n",
    "ax = broccoli_data.boxplot(by=\"timestamp\", column=columns, layout=(3,2), figsize=(15,25), rot=90)"
   ]
  },
  {
   "cell_type": "markdown",
   "metadata": {},
   "source": [
    "### Zwischenfazit NDVI, Stand 21.05.2019\n",
    "Es ist ersichtlich, dass die NDVI-Werte mit der Zeit im Mittel tendenziell steigen.\n",
    "Statt der Max-/Min-Werte sollten eher die 15%-/85%-Quantile verwenedet werden, um Ausreisser zu vermeiden. Es ist jedoch ersichtlich, dass diese ähnlich oder fast stärker streuen als die Max-/Min-Werte. \n",
    "\n",
    "## NDRE"
   ]
  },
  {
   "cell_type": "code",
   "execution_count": null,
   "metadata": {},
   "outputs": [],
   "source": [
    "# Boxplot der NDRE-Werte gruppiert nach Datum\n",
    "columns = ['maxNDRE', 'NDRE_85_QUANTILE', 'minNDRE', 'NDRE_15_QUANTILE', 'meanNDRE', 'medianNDRE']\n",
    "ax = broccoli_data.boxplot(by=\"timestamp\", column=columns, layout=(3,2), figsize=(15,25), rot=90)"
   ]
  },
  {
   "cell_type": "markdown",
   "metadata": {},
   "source": [
    "### Zwischenfazit NDRE, Stand 21.05.2019\n",
    "Bei dem NDRE-Messwerten ist ersichtlich, dass die Streuung um den Mittelwert bei den 15%-/85%-Quantilen kleiner ist als bei den Min-/Max-Werten. zudem steigen die NDRE Messwerte nicht kontinuierlich, sondern fallen und steigen wieder. Dass die unteren und oberen Werten ähnlich fallen und steigen, lässt auf eine gewisse Konsistenz in der Datenerfassung schliessen.\n",
    "\n",
    "## Plot NDVI/NDRE\n",
    "Für die allfällige Berechnung des CCCI ist ein Scatterplot mit x-Achse = NDVI und y-Achse = NDRE die Voraussetzung. Im Folgenden wird dieser mit den 85%-Quantilen und mit den Mittelwerten der Datensätze erstellt."
   ]
  },
  {
   "cell_type": "code",
   "execution_count": null,
   "metadata": {},
   "outputs": [],
   "source": [
    "import seaborn as sns \n",
    "sns.lmplot(x='NDVI_85_QUANTILE', y='NDRE_85_QUANTILE', data=broccoli_data, hue='timestamp', fit_reg=False)\n",
    "axes = plt.gca()\n",
    "axes.set_xlim([0,1])\n",
    "axes.set_ylim([0,1])\n",
    "plt.show()"
   ]
  },
  {
   "cell_type": "code",
   "execution_count": null,
   "metadata": {},
   "outputs": [],
   "source": [
    "sns.lmplot(x='maxNDVI', y='maxNDRE', data=broccoli_data, hue='timestamp', fit_reg=False)\n",
    "axes = plt.gca()\n",
    "axes.set_xlim([0,1])\n",
    "axes.set_ylim([0,1])\n",
    "plt.show()"
   ]
  },
  {
   "cell_type": "code",
   "execution_count": null,
   "metadata": {},
   "outputs": [],
   "source": [
    "sns.lmplot(x='pixelCount', y='meanNDVI', data=broccoli_data, hue='timestamp', fit_reg=False)\n",
    "axes = plt.gca()\n",
    "axes.set_ylim([0,1])\n",
    "plt.show()"
   ]
  },
  {
   "cell_type": "code",
   "execution_count": null,
   "metadata": {},
   "outputs": [],
   "source": [
    "sns.lmplot(x='pixelCount', y='NDRE_85_QUANTILE', data=broccoli_data, hue='timestamp', fit_reg=False)\n",
    "axes = plt.gca()\n",
    "axes.set_ylim([0,1])\n",
    "plt.show()"
   ]
  },
  {
   "cell_type": "markdown",
   "metadata": {},
   "source": [
    "### Zwischenfazit NDVI/NDRE, Stand 21.05.2019\n",
    "Wie in den Scatterplots ersichtlich ist, sind die Datenwolken nach Datum einigermassen örtlich gruppiert. Dabei treten jedoch sehr verschiedene NDRE-Werte pro Datum und auch NDVI-Wert auf. Eine lineare Beziehung NDVI->NDRE, wie sie in der Literatur (vergleiche Fachmodul) gezeigt wurde, ist nicht wirklich sichtbar. Die Berechnung des CCCI anhand dieser Daten ist momentan noch nicht vielversprechend, könnte jedoch gewagt werden. Abzuwarten ist, ob die NDRE-Werte mit der Zeit noch ansteigen, da sie mittlerweile eher tiefe Werte annehmen."
   ]
  },
  {
   "cell_type": "markdown",
   "metadata": {},
   "source": [
    "## Analyse der Erntedaten\n",
    "In diesem Schritt werden die Erntedaten, dass heisst Gewicht und Zustand, in Zusammenhang mit den Messdaten (Vegetationsindizes, Wetterdaten) untersucht.<br>\n",
    "Versucht wird eine Korrelation zwischen den Indizes oder dem Wetter und dem Erntegewicht zu finden. Das Erntegewicht ist hauptsächlich die Response eines potentiellen ML-Modelles, wobei auch noch der Zustand berücksichtigt werden kann. Zustände sind:<br>\n",
    "* Fehlt: Brokkoli wurde bei der Ernte nicht gefunden\n",
    "* Überreif\n",
    "* Verkümmert: Pflanze ist fast gar nicht gewachsen und hat kleine Blätter\n",
    "* Kein Kopf: Pflanze hat zwar grosse Blätter aber keinen 'Kopf' bzw. keine Blüte\n",
    "* Faul\n",
    "* Unreif (alle Brokkoli unter 300g)\n",
    "\n",
    "### Korrelationen zwischen Vegetationsindizes, Pixel-Anzahl und Erntegewicht\n",
    "In einem ersten Schritt wird durch verschiedene Plots versucht, eine erhoffte Korrelation der Vegetationsindizes oder der Pixel-Anzahl (gemäss Segmentierung) und dem Erntegewicht zu finden.\n",
    "\n",
    "#### Untersuchung letzte Messung - Unverrechnete Werte\n",
    "Da die Pflanzen bei der letzten Messung am 18.06.19, am Tag vor der Ernte, am weitesten entwickelt waren, wird zuerst diese Messung mit den Erntedaten verglichen."
   ]
  },
  {
   "cell_type": "code",
   "execution_count": null,
   "metadata": {},
   "outputs": [],
   "source": [
    "# Daten mit den Messwerten der letzen Messung filtern\n",
    "broccoli_data_lastDate = broccoli_data[broccoli_data.timestamp == '2019-06-18']\n",
    "\n",
    "# Scatterplot NDRE 85%-Quantil - Gewicht\n",
    "sns.jointplot(x='NDRE_85_QUANTILE', y='cropWeight', data=broccoli_data_lastDate, kind='reg',\n",
    "             joint_kws={'line_kws':{'color':'cyan'}})\n",
    "\n",
    "# Horizontale Linie, welche das Minimalgewicht für Reife darstellt\n",
    "plt.axhline(y=300, color='red')\n",
    "\n",
    "# Skala NDRE auf [0,1] setzen\n",
    "axes = plt.gca()\n",
    "axes.set_xlim([0,1])\n",
    "plt.show()"
   ]
  },
  {
   "cell_type": "code",
   "execution_count": null,
   "metadata": {},
   "outputs": [],
   "source": [
    "# Scatterplot NDRE 15%-Quantil - Gewicht\n",
    "sns.jointplot(x='NDRE_15_QUANTILE', y='cropWeight', data=broccoli_data_lastDate, kind='reg',\n",
    "             joint_kws={'line_kws':{'color':'cyan'}})\n",
    "\n",
    "# Horizontale Linie, welche das Minimalgewicht für Reife darstellt\n",
    "plt.axhline(y=300, color='red')\n",
    "\n",
    "# Skala NDRE auf [0,1] setzen\n",
    "axes = plt.gca()\n",
    "axes.set_xlim([0,1])\n",
    "plt.show()"
   ]
  },
  {
   "cell_type": "code",
   "execution_count": null,
   "metadata": {},
   "outputs": [],
   "source": [
    "# Scatterplot NDVI 85%-Quantil - Gewicht\n",
    "sns.jointplot(x='NDVI_85_QUANTILE', y='cropWeight', data=broccoli_data_lastDate, kind='reg',\n",
    "             joint_kws={'line_kws':{'color':'cyan'}})\n",
    "\n",
    "# Horizontale Linie für minimales Erntegewicht\n",
    "plt.axhline(y=300, color='red')\n",
    "\n",
    "# Skala NDVI auf [0,1] setzen\n",
    "axes = plt.gca()\n",
    "axes.set_xlim([0,1])\n",
    "plt.show()"
   ]
  },
  {
   "cell_type": "code",
   "execution_count": null,
   "metadata": {},
   "outputs": [],
   "source": [
    "# Scatterplot Pixel-Anzahl - Erntegewicht\n",
    "sns.jointplot(x='pixelCount', y='cropWeight', data=broccoli_data_lastDate, kind='reg',\n",
    "             joint_kws={'line_kws':{'color':'cyan'}})\n",
    "\n",
    "# Horizontale Linie für minimales Erntegewicht\n",
    "plt.axhline(y=300, color='red')\n",
    "plt.show()"
   ]
  },
  {
   "cell_type": "markdown",
   "metadata": {},
   "source": [
    "#### Untersuchung verrechnete Werte\n",
    "Da keine ersichtliche Korrelation zwischen NDVI/NDRE/Pixel-Anzahl und Gewicht gefunden wurde, werden in diesem Schritt bestimmte Werte berechnet, die nicht nur Messwerte an einem Datum darstellen. Das kann beispielsweise die Summe des durchschnittlichen NDVI über alle Messdaten sein."
   ]
  },
  {
   "cell_type": "code",
   "execution_count": null,
   "metadata": {},
   "outputs": [],
   "source": [
    "# Erstellung eines DataFrames zur Untersuchung der Erntedaten mit verrechneten Werten\n",
    "# broccoli_data_lastDate beinhaltet zu jedem Brokkoli nur ein Datum, das DataFrame enthält zu Beginn nur Brokkoli-IDs \n",
    "# und deren Gewicht\n",
    "broccoli_cropData = broccoli_data_lastDate[['id', 'cropWeight','cropMissing', 'cropOverripe', 'cropRudimentary', 'cropRotten',\n",
    "                                            'cropUnripe', 'cropNoBlossom', 'rowNumber', 'NDRE_85_QUANTILE', \n",
    "                                            'NDVI_85_QUANTILE']].copy()\n",
    "broccoli_cropData.rename(index=str, columns={\"NDRE_85_QUANTILE\": \"NDRE_85_QUANTILE_lastDate\", \"NDVI_85_QUANTILE\":\n",
    "                                             \"NDVI_85_QUANTILE_lastDate\"}, inplace=True)\n",
    "\n",
    "\n",
    "# Berechnung der Differenz des NDRE-85%-Quantils zwischen dem letzen und dem ersten Messdatum für jeden Brokkoli\n",
    "broccoli_cropData = broccoli_cropData.merge(broccoli_data[broccoli_data.timestamp == '2019-06-18'][['id', 'NDRE_85_QUANTILE']], \n",
    "                                            left_on='id', right_on='id')\n",
    "broccoli_cropData = broccoli_cropData.merge(broccoli_data[broccoli_data.timestamp == '2019-04-18'][['id', 'NDRE_85_QUANTILE']], \n",
    "                                            left_on='id', right_on='id', suffixes=('_0618', '_0418'))\n",
    "broccoli_cropData['NDRE_85_QUANTILE_diff'] = (broccoli_cropData['NDRE_85_QUANTILE_0618'] - \n",
    "                                              broccoli_cropData['NDRE_85_QUANTILE_0418'])\n",
    "broccoli_cropData.drop(['NDRE_85_QUANTILE_0618', 'NDRE_85_QUANTILE_0418'], axis=1, inplace=True)\n",
    "\n",
    "# Scatterplot Differenz NDRE-85%-Quantil - Gewicht\n",
    "sns.jointplot(x='NDRE_85_QUANTILE_diff', y='cropWeight', data=broccoli_cropData, kind='reg',\n",
    "             joint_kws={'line_kws':{'color':'cyan'}})\n",
    "\n",
    "# Horizontale Linie für minimales Erntegewicht\n",
    "plt.axhline(y=300, color='red')\n",
    "plt.show()"
   ]
  },
  {
   "cell_type": "code",
   "execution_count": null,
   "metadata": {},
   "outputs": [],
   "source": [
    "# Berechnung der Summen aller Messwerte für jeden Brokkoli\n",
    "broccoli_cropData = broccoli_cropData.merge(broccoli_data.drop(['lat', 'long', 'cropWeight', 'cropMissing', 'cropOverripe'\n",
    "                                                               , 'cropRudimentary', 'cropRotten', 'cropUnripe','cropNoBlossom', 'rowNumber'],\n",
    "                                                               axis=1).groupby(['id']).sum().add_suffix('_sum'), left_on='id',\n",
    "                                            right_on='id')\n",
    "broccoli_cropData.head()"
   ]
  },
  {
   "cell_type": "code",
   "execution_count": null,
   "metadata": {},
   "outputs": [],
   "source": [
    "# Scatterplot Summe NDRE-85%-Quantil - Gewicht\n",
    "sns.jointplot(x='NDRE_85_QUANTILE_sum', y='cropWeight', data=broccoli_cropData, kind='reg',\n",
    "             joint_kws={'line_kws':{'color':'cyan'}})\n",
    "\n",
    "# Horizontale Linie für minimales Erntegewicht\n",
    "plt.axhline(y=300, color='red')\n",
    "plt.show()"
   ]
  },
  {
   "cell_type": "code",
   "execution_count": null,
   "metadata": {},
   "outputs": [],
   "source": [
    "# Scatterplot Summe Median-NDVI - Gewicht\n",
    "sns.jointplot(x='medianNDVI_sum', y='cropWeight', data=broccoli_cropData, kind='reg',\n",
    "             joint_kws={'line_kws':{'color':'cyan'}})\n",
    "\n",
    "# Horizontale Linie für minimales Erntegewicht\n",
    "plt.axhline(y=300, color='red')\n",
    "plt.show()"
   ]
  },
  {
   "cell_type": "code",
   "execution_count": null,
   "metadata": {},
   "outputs": [],
   "source": [
    "# Berechnung der Integrale des Median-NDVI, Median-NDRE\n",
    "# x-Achse für Integration ist die Anzahl Tage seit erstem Messtag (Erster Messtag = 0) \n",
    "from scipy import integrate\n",
    "\n",
    "# Hinzufügen der Spalten mit Initialwert 0.0\n",
    "broccoli_cropData['medianNDVI_Integral'] = 0.0\n",
    "broccoli_cropData['NDRE_85_QUANTILE_Integral'] = 0.0\n",
    "broccoli_cropData['pixelCount_Integral'] = 0.0\n",
    "\n",
    "# x-Werte für Integration (Tage seit erstem Messdatum)\n",
    "x = [0, 7, 13, 21, 28, 36, 47, 56, 62]\n",
    "\n",
    "# Berechnung der Integrale für jeden Brokkoli\n",
    "for index, row in broccoli_cropData.iterrows():\n",
    "    #if(len(broccoli_data[broccoli_data.id==row['id']]['medianNDVI'].to_numpy()) == 9):\n",
    "    broccoli_cropData.at[index, 'medianNDVI_Integral'] = integrate.cumtrapz(broccoli_data[broccoli_data.id==row['id']]\n",
    "                                                                            ['medianNDVI'].to_numpy(), x=x, initial=0)[8]\n",
    "    broccoli_cropData.at[index, 'NDRE_85_QUANTILE_Integral'] = integrate.cumtrapz(broccoli_data[broccoli_data.id==row['id']]\n",
    "                                                                            ['NDRE_85_QUANTILE'].to_numpy(), x=x, initial=0)[8]\n",
    "    broccoli_cropData.at[index, 'pixelCount_Integral'] = integrate.cumtrapz(broccoli_data[broccoli_data.id==row['id']]\n",
    "                                                                            ['pixelCount'].to_numpy(), x=x, initial=0)[8]\n",
    "\n",
    "broccoli_cropData.head()"
   ]
  },
  {
   "cell_type": "code",
   "execution_count": null,
   "metadata": {},
   "outputs": [],
   "source": [
    "# Scatterplot Integral Median-NDVI - Gewicht\n",
    "sns.jointplot(x='medianNDVI_Integral', y='cropWeight', data=broccoli_cropData, kind='reg',\n",
    "             joint_kws={'line_kws':{'color':'cyan'}})\n",
    "\n",
    "# Skala Integral NDVI auf [40,50] setzen\n",
    "axes = plt.gca()\n",
    "axes.set_xlim([40,50])\n",
    "\n",
    "# Horizontale Line für minimales Reifegewicht\n",
    "plt.axhline(y=300, color='red')\n",
    "plt.show()"
   ]
  },
  {
   "cell_type": "code",
   "execution_count": null,
   "metadata": {},
   "outputs": [],
   "source": [
    "# Scatterplot Integral Median-NDRE - Gewicht\n",
    "sns.jointplot(x='NDRE_85_QUANTILE_Integral', y='cropWeight', data=broccoli_cropData, kind='reg',\n",
    "             joint_kws={'line_kws':{'color':'cyan'}})\n",
    "\n",
    "# Skala Integral NDRE auf 6,16] setzen\n",
    "axes = plt.gca()\n",
    "#axes.set_xlim([6,16])\n",
    "\n",
    "# Horizontale Linie für minimales Reifegewicht\n",
    "plt.axhline(y=300, color='red')\n",
    "plt.show()"
   ]
  },
  {
   "cell_type": "code",
   "execution_count": null,
   "metadata": {},
   "outputs": [],
   "source": [
    "# Verrechnung NDVI/NDRE Integrale\n",
    "broccoli_cropData['NDRE_NDVI_norm'] = ((broccoli_cropData['NDRE_85_QUANTILE_Integral'] * broccoli_cropData['medianNDVI_Integral'])\n",
    "                                       / (broccoli_cropData['NDRE_85_QUANTILE_Integral'] + broccoli_cropData['medianNDVI_Integral']))\n",
    "\n",
    "# Scatterplot Verrechnung NDVI/NDRE Integrale - Gewicht\n",
    "sns.jointplot(x='NDRE_NDVI_norm', y='cropWeight', data=broccoli_cropData, kind='reg',\n",
    "             joint_kws={'line_kws':{'color':'cyan'}})\n",
    "\n",
    "# Horizontale Linie für minimales Reifegewicht\n",
    "plt.axhline(y=300, color='red')\n",
    "plt.show()\n"
   ]
  },
  {
   "cell_type": "code",
   "execution_count": null,
   "metadata": {},
   "outputs": [],
   "source": [
    "# Verrechnung NDVI/Pixel-Anzahl\n",
    "broccoli_cropData['NDVI_pixelCount_norm'] = ((broccoli_cropData['pixelCount_Integral'] * broccoli_cropData['medianNDVI_Integral'])\n",
    "                                       / (broccoli_cropData['pixelCount_Integral'] + broccoli_cropData['medianNDVI_Integral']))\n",
    "\n",
    "# Scatterplot Verrechnung NDVI/Pixel-Anzahl - Gewicht\n",
    "sns.jointplot(x='NDVI_pixelCount_norm', y='cropWeight', data=broccoli_cropData, kind='reg',\n",
    "             joint_kws={'line_kws':{'color':'cyan'}})\n",
    "\n",
    "# Horizontale Linie für minimales Reifegewicht\n",
    "plt.axhline(y=300, color='red')\n",
    "plt.show()"
   ]
  },
  {
   "cell_type": "markdown",
   "metadata": {},
   "source": [
    "## Verteilung aller NDVI, NDRE und pixelCount Werten der Brokkoli über den gesamten Zeitraum"
   ]
  },
  {
   "cell_type": "code",
   "execution_count": null,
   "metadata": {},
   "outputs": [],
   "source": [
    "mean_ndvi_lineplot_ts = pd.DataFrame({'timestamp' : dates})\n",
    "mean_ndre_lineplot_ts = pd.DataFrame({'timestamp' : dates})\n",
    "pixelCount_lineplot_ts = pd.DataFrame({'timestamp' : dates})\n",
    "median_ndvi_lineplot_ts = pd.DataFrame({'timestamp' : dates})\n",
    "median_ndre_lineplot_ts = pd.DataFrame({'timestamp' : dates})\n",
    "unique_id = broccoli_data.id.unique()\n",
    "values_id = np.array([])\n",
    "values_cropWeight = np.array([])\n",
    "for index in unique_id:\n",
    "    values_ndvi = np.array([])\n",
    "    values_ndre = np.array([])\n",
    "    values_pixelCount = np.array([])\n",
    "    values_ndvi_median = np.array([])\n",
    "    values_ndre_median = np.array([])\n",
    "    for date in dates:\n",
    "        values_ndvi = np.append(values_ndvi, broccoli_data[(broccoli_data['id'] == index) & (broccoli_data['timestamp'] == date)]['meanNDVI'])\n",
    "        values_ndre = np.append(values_ndre, broccoli_data[(broccoli_data['id'] == index) & (broccoli_data['timestamp'] == date)]['meanNDRE'])\n",
    "        values_pixelCount = np.append(values_pixelCount, broccoli_data[(broccoli_data['id'] == index) & (broccoli_data['timestamp'] == date)]['pixelCount'])\n",
    "        values_ndvi_median = np.append(values_ndvi_median, broccoli_data[(broccoli_data['id'] == index) & (broccoli_data['timestamp'] == date)]['medianNDVI'])\n",
    "        values_ndre_median = np.append(values_ndre_median, broccoli_data[(broccoli_data['id'] == index) & (broccoli_data['timestamp'] == date)]['medianNDRE'])\n",
    "    if len(values_ndvi) < 9:\n",
    "        continue\n",
    "    values_id = np.append(values_id, index)\n",
    "    mean_ndvi_lineplot_ts[str(index)] = values_ndvi\n",
    "    mean_ndre_lineplot_ts[str(index)] = values_ndre\n",
    "    pixelCount_lineplot_ts[str(index)] = values_pixelCount\n",
    "    median_ndvi_lineplot_ts[str(index)] = values_ndvi_median\n",
    "    median_ndre_lineplot_ts[str(index)] = values_ndre_median\n",
    "\n",
    "id_cropWeight_Df = pd.DataFrame({'id': values_id})\n",
    "    \n",
    "mean_ndvi_lineplot_ts['timestamp'] = pd.to_datetime(mean_ndvi_lineplot_ts['timestamp'])\n",
    "mean_ndvi_lineplot_ts.set_index(\"timestamp\", drop=True, inplace=True)\n",
    "\n",
    "mean_ndre_lineplot_ts['timestamp'] = pd.to_datetime(mean_ndre_lineplot_ts['timestamp'])\n",
    "mean_ndre_lineplot_ts.set_index(\"timestamp\", drop=True, inplace=True)\n",
    "\n",
    "pixelCount_lineplot_ts['timestamp'] = pd.to_datetime(pixelCount_lineplot_ts['timestamp'])\n",
    "pixelCount_lineplot_ts.set_index(\"timestamp\", drop=True, inplace=True)\n",
    "\n",
    "median_ndvi_lineplot_ts['timestamp'] = pd.to_datetime(median_ndvi_lineplot_ts['timestamp'])\n",
    "median_ndvi_lineplot_ts.set_index(\"timestamp\", drop=True, inplace=True)\n",
    "\n",
    "median_ndre_lineplot_ts['timestamp'] = pd.to_datetime(median_ndre_lineplot_ts['timestamp'])\n",
    "median_ndre_lineplot_ts.set_index(\"timestamp\", drop=True, inplace=True)\n"
   ]
  },
  {
   "cell_type": "code",
   "execution_count": null,
   "metadata": {},
   "outputs": [],
   "source": [
    "# Die Farben vorbereiten\n",
    "import matplotlib.patches as mpatches\n",
    "colors = {'200': 'blue', '300': 'green', '400': 'red', '500': 'cyan', '600': 'magenta', '700': 'yellow', '800': 'black'}\n",
    "blue_patch = mpatches.Patch(color='blue', label='cropWeight <= 200g')\n",
    "green_patch = mpatches.Patch(color='green', label='cropWeight == 300g')\n",
    "red_patch = mpatches.Patch(color='red', label='cropWeight == 400g')\n",
    "cyan_patch = mpatches.Patch(color='cyan', label='cropWeight == 500g')\n",
    "magenta_patch = mpatches.Patch(color='magenta', label='cropWeight == 600g')\n",
    "yellow_patch = mpatches.Patch(color='yellow', label='cropWeight == 700g')\n",
    "black_patch = mpatches.Patch(color='black', label='cropWeight >= 800g')\n",
    "patches=[black_patch, yellow_patch, magenta_patch, cyan_patch, red_patch, green_patch, blue_patch]\n",
    "\n",
    "broccoli_data_without_nan = broccoli_data[broccoli_data['cropWeight'].isnull() == False]\n",
    "\n",
    "fig = plt.figure(figsize=(20,20))\n",
    "fig.add_subplot(211)\n",
    "ax1 = fig.gca()\n",
    "ax1.set_title(\"Mean NDVI aller Pflanzen über die Zeit kategorisiert durch das Erntegewicht\")\n",
    "ax1.legend(handles=patches)\n",
    "\n",
    "for broccoli_id, values in mean_ndvi_lineplot_ts.iteritems():\n",
    "    cropWeight = broccoli_data_without_nan[(broccoli_data_without_nan['id'] == int(broccoli_id))]['cropWeight']\n",
    "    if cropWeight.empty:\n",
    "        continue\n",
    "        \n",
    "    cropWeight = cropWeight.iloc[0]\n",
    "    roundedCropWeight = int(round(cropWeight,-2))\n",
    "    if roundedCropWeight < 200:\n",
    "          roundedCropWeight = 200\n",
    "    if roundedCropWeight > 800:\n",
    "          roundedCropWeight = 800\n",
    "    color_plot = colors.get(str(roundedCropWeight))\n",
    "    mean_ndvi_lineplot_ts[broccoli_id].plot(color=color_plot, ax=ax1)\n",
    "\n",
    "plt.gca().set_xticks(dates)\n",
    "plt.gca().xaxis.grid(True)\n",
    "plt.show()"
   ]
  },
  {
   "cell_type": "code",
   "execution_count": null,
   "metadata": {},
   "outputs": [],
   "source": [
    "fig = plt.figure(figsize=(20,20))\n",
    "ax2 = fig.add_subplot(212)\n",
    "ax2.set_title(\"Median NDVI aller Pflanzen über die Zeit kategorisiert durch das Erntegewicht\")\n",
    "ax2.legend(handles=patches)\n",
    "\n",
    "for broccoli_id, values in median_ndvi_lineplot_ts.iteritems():\n",
    "    cropWeight = broccoli_data_without_nan[(broccoli_data_without_nan['id'] == int(broccoli_id))]['cropWeight']\n",
    "    if cropWeight.empty:\n",
    "        continue\n",
    "    cropWeight = cropWeight.iloc[0]\n",
    "    roundedCropWeight = int(round(cropWeight,-2))\n",
    "    if roundedCropWeight < 200:\n",
    "          roundedCropWeight = 200\n",
    "    if roundedCropWeight > 800:\n",
    "          roundedCropWeight = 800\n",
    "    color_plot = colors.get(str(roundedCropWeight))\n",
    "    median_ndvi_lineplot_ts[broccoli_id].plot(color=color_plot, ax=ax2)\n",
    "    \n",
    "plt.gca().set_xticks(dates)\n",
    "plt.gca().xaxis.grid(True)\n",
    "plt.show()"
   ]
  },
  {
   "cell_type": "code",
   "execution_count": null,
   "metadata": {},
   "outputs": [],
   "source": [
    "fig = plt.figure(figsize=(20,20))\n",
    "ax1 = fig.add_subplot(211)\n",
    "ax1.set_title(\"Mean NDRE aller Pflanzen über die Zeit kategorisiert durch das Erntegewicht\")\n",
    "ax1.legend(handles=patches)\n",
    "\n",
    "for broccoli_id, values in mean_ndre_lineplot_ts.iteritems():\n",
    "    cropWeight = broccoli_data_without_nan[(broccoli_data_without_nan['id'] == int(broccoli_id))]['cropWeight']\n",
    "    if cropWeight.empty:\n",
    "        continue\n",
    "    cropWeight = cropWeight.iloc[0]\n",
    "    roundedCropWeight = int(round(cropWeight,-2))\n",
    "    if roundedCropWeight < 200:\n",
    "          roundedCropWeight = 200\n",
    "    if roundedCropWeight > 800:\n",
    "          roundedCropWeight = 800\n",
    "    color_plot = colors.get(str(roundedCropWeight))\n",
    "    mean_ndre_lineplot_ts[broccoli_id].plot(color=color_plot, ax=ax1)\n",
    "    \n",
    "plt.gca().set_xticks(dates)\n",
    "plt.gca().xaxis.grid(True)\n",
    "plt.show()"
   ]
  },
  {
   "cell_type": "code",
   "execution_count": null,
   "metadata": {},
   "outputs": [],
   "source": [
    "fig = plt.figure(figsize=(20,20))\n",
    "ax2 = fig.add_subplot(211)\n",
    "ax2.set_title(\"Median NDRE aller Pflanzen über die Zeit kategorisiert durch das Erntegewicht\")\n",
    "ax2.legend(handles=patches)\n",
    "\n",
    "for broccoli_id, values in median_ndre_lineplot_ts.iteritems():\n",
    "    cropWeight = broccoli_data_without_nan[(broccoli_data_without_nan['id'] == int(broccoli_id))]['cropWeight']\n",
    "    if cropWeight.empty:\n",
    "        continue\n",
    "    cropWeight = cropWeight.iloc[0]\n",
    "    roundedCropWeight = int(round(cropWeight,-2))\n",
    "    if roundedCropWeight < 200:\n",
    "          roundedCropWeight = 200\n",
    "    if roundedCropWeight > 800:\n",
    "          roundedCropWeight = 800\n",
    "    color_plot = colors.get(str(roundedCropWeight))\n",
    "    median_ndre_lineplot_ts[broccoli_id].plot(color=color_plot, ax=ax2)\n",
    "    \n",
    "plt.gca().set_xticks(dates)\n",
    "plt.gca().xaxis.grid(True)\n",
    "plt.show()"
   ]
  },
  {
   "cell_type": "code",
   "execution_count": null,
   "metadata": {},
   "outputs": [],
   "source": [
    "plt.figure(figsize=(20,10))\n",
    "for broccoli_id, values in pixelCount_lineplot_ts.iteritems():\n",
    "    cropWeight = broccoli_data_without_nan[(broccoli_data_without_nan['id'] == int(broccoli_id))]['cropWeight']\n",
    "    if cropWeight.empty:\n",
    "        continue\n",
    "    cropWeight = cropWeight.iloc[0]\n",
    "    roundedCropWeight = int(round(cropWeight,-2))\n",
    "    if roundedCropWeight < 200:\n",
    "          roundedCropWeight = 200\n",
    "    if roundedCropWeight > 800:\n",
    "          roundedCropWeight = 800\n",
    "    color_plot = colors.get(str(roundedCropWeight))\n",
    "    pixelCount_lineplot_ts[broccoli_id].plot(color=color_plot)\n",
    "plt.title(\"pixelCount aller Pflanzen über die Zeit kategorisiert durch das Erntegewicht\")\n",
    "plt.legend(handles=patches)\n",
    "\n",
    "plt.gca().set_xticks(dates)\n",
    "plt.gca().xaxis.grid(True)\n",
    "plt.show()"
   ]
  },
  {
   "cell_type": "markdown",
   "metadata": {},
   "source": [
    "#### Analyse unreifer, schadhafter Brokkoli\n",
    "Nun werden noch die unreifen und schadhaften (d.h. eines der Ernte Labels wurde gesetzt) untersucht. Allenfalls können Ausreisser bei der Pixel-Anzahl/NDVI/NDRE auf einen schadhaften Zustand bei der Ernte hinweisen.<br>\n",
    "Wie oben erwähnt sind die Labels:<br>\n",
    "* Fehlt: Brokkoli wurde bei der Ernte nicht gefunden\n",
    "* Überreif\n",
    "* Verkümmert: Pflanze ist fast gar nicht gewachsen und hat kleine Blätter\n",
    "* Kein Kopf: Pflanze hat zwar grosse Blätter aber keinen 'Kopf' bzw. keine Blüte\n",
    "* Faul\n",
    "* Unreif (alle Brokkoli unter 300g)"
   ]
  },
  {
   "cell_type": "code",
   "execution_count": null,
   "metadata": {},
   "outputs": [],
   "source": [
    "# Scatterplots Median-NDRE-Integral - Erntelabels\n",
    "columnsCropLabels = ['cropMissing', 'cropOverripe', 'cropRudimentary', 'cropRotten', 'cropUnripe', 'cropNoBlossom']\n",
    "for column in columnsCropLabels:    \n",
    "    sns.scatterplot(x='NDRE_85_QUANTILE_Integral', y=column, data=broccoli_cropData)\n",
    "    axes = plt.gca()\n",
    "    axes.set_ylim([-0.1,1.1])    \n",
    "    plt.show()"
   ]
  },
  {
   "cell_type": "code",
   "execution_count": null,
   "metadata": {},
   "outputs": [],
   "source": [
    "# Scatterplots Median-NDVI-Integral - Erntelabels\n",
    "for column in columnsCropLabels:    \n",
    "    sns.scatterplot(x='medianNDVI_Integral', y=column, data=broccoli_cropData)\n",
    "    axes = plt.gca()\n",
    "    axes.set_ylim([-0.1,1.1])    \n",
    "    plt.show()"
   ]
  },
  {
   "cell_type": "code",
   "execution_count": null,
   "metadata": {},
   "outputs": [],
   "source": [
    "# Scatterplots Pixel-Anzahl-Integral - Erntelabels\n",
    "for column in columnsCropLabels:    \n",
    "    sns.scatterplot(x='pixelCount_Integral', y=column, data=broccoli_cropData)\n",
    "    axes = plt.gca()\n",
    "    axes.set_ylim([-0.1,1.1])    \n",
    "    plt.show()"
   ]
  },
  {
   "cell_type": "markdown",
   "metadata": {},
   "source": [
    "#### Korrelationsmatrix berrechnete Werte, Erntelabels\n",
    "Um allfällige Korrelationen besser zu erkennen, wird im folgenden eine Korrelationsmatrix aufgrund des DataFrame mit den Erntelabels und den berechneten Werten erstellt."
   ]
  },
  {
   "cell_type": "code",
   "execution_count": null,
   "metadata": {},
   "outputs": [],
   "source": [
    "# Korrelationsmatrix erstellen\n",
    "corr = broccoli_cropData.drop(['id', 'NDRE_NDVI_norm', 'NDVI_pixelCount_norm'], axis=1).corr()\n",
    "\n",
    "mask = np.zeros_like(corr, dtype=np.bool)\n",
    "mask[np.triu_indices_from(mask)] = True\n",
    "f, ax = plt.subplots(figsize=(20, 20))\n",
    "cmap = sns.diverging_palette(220, 10, as_cmap=True)\n",
    "sns.heatmap(corr, mask=mask, cmap=cmap, center=0, annot=False, vmin=-1, vmax=1, square=True, linewidths=.5, \n",
    "            cbar_kws={\"shrink\": .5})"
   ]
  },
  {
   "cell_type": "markdown",
   "metadata": {},
   "source": [
    "#### Fazit Korrelationsmatrix berechnete Werte, Erntelabels\n",
    "Die berechneten Werte korrelieren natürlich untereinander stark, dies führt jedoch zu keiner Aussage. Desweiteren sind keine sehr starken Korrelationen mit dem Gewicht / den Erntelabels und den Messwerten zu sehen. Weniger starke Korrelationen sind zu erkennen zwischen:<br>\n",
    "* cropWeight (Gewicht) - pixelCount (Pixel-Anzahl)\n",
    "* cropWeight (Gewicht) - (Berechnete) NDVI-Werte\n",
    "* Negative Korrelation: cropRudimentary (Verkümmert) - (Berechnete) NDVI-Werte\n",
    "* Negative Korrelation: cropUnripe (Unreif) - (Berechnete) NDVI-Werte"
   ]
  },
  {
   "cell_type": "code",
   "execution_count": null,
   "metadata": {},
   "outputs": [],
   "source": [
    "# Aufteilung der Daten in reife, unreife (Gewicht < 300g) Brokkoli\n",
    "broccoli_data_lastDate_unripe = broccoli_data_lastDate[broccoli_data_lastDate.cropWeight < 300]\n",
    "broccoli_data_lastDate_ripe = broccoli_data_lastDate[broccoli_data_lastDate.cropWeight >= 300]\n",
    "\n",
    "print(\"Anzahl unreife Brokkoli (Gewicht < 300g): \" + str(len(broccoli_data_lastDate_unripe)))\n",
    "print(\"Durchschnitt meanNDVI unreife: \" + str(broccoli_data_lastDate_unripe['meanNDVI'].mean()))\n",
    "print(\"Durchschnitt meanNDRE unreife: \" + str(broccoli_data_lastDate_unripe['meanNDRE'].mean()))\n",
    "print(\"Durchschnitt medianNDRE unreife: \" + str(broccoli_data_lastDate_unripe['medianNDRE'].mean()))\n",
    "print(\"Durchschnitt NDRE_85_QUANTILE unreife: \" + str(broccoli_data_lastDate_unripe['NDRE_85_QUANTILE'].mean()))\n",
    "print(\"Durchschnitt NDRE_15_QUANTILE unreife: \" + str(broccoli_data_lastDate_unripe['NDRE_15_QUANTILE'].mean()))\n",
    "print()\n",
    "print(\"Anzahl reife Brokkoli (Gewicht >= 300g): \" + str(len(broccoli_data_lastDate_ripe)))\n",
    "print(\"Durchschnitt meanNDVI reife: \" + str(broccoli_data_lastDate_ripe['meanNDVI'].mean()))\n",
    "print(\"Durchschnitt meanNDRE reife: \" + str(broccoli_data_lastDate_ripe['meanNDRE'].mean()))\n",
    "print(\"Durchschnitt medianNDRE reife: \" + str(broccoli_data_lastDate_ripe['medianNDRE'].mean()))\n",
    "print(\"Durchschnitt NDRE_85_QUANTILE reife: \" + str(broccoli_data_lastDate_ripe['NDRE_85_QUANTILE'].mean()))\n",
    "print(\"Durchschnitt NDRE_15_QUANTILE reife: \" + str(broccoli_data_lastDate_ripe['NDRE_15_QUANTILE'].mean()))"
   ]
  },
  {
   "cell_type": "markdown",
   "metadata": {},
   "source": [
    "### Analyse der Reihen\n",
    "Nun werden noch die 6 Testreihen untersucht, d.h. miteinander verglichen. Allenfalls zeichnet sich ein Bild ab, dass gewisse Reihen mehr/weniger Ertrag bringen."
   ]
  },
  {
   "cell_type": "code",
   "execution_count": null,
   "metadata": {},
   "outputs": [],
   "source": [
    "broccoli_cropData_ByRow = broccoli_cropData[['rowNumber', 'cropWeight', 'cropMissing', 'cropOverripe', 'cropRudimentary',\n",
    "                                           'cropRotten', 'cropUnripe', 'cropNoBlossom', 'NDRE_85_QUANTILE_lastDate',\n",
    "                                          'NDVI_85_QUANTILE_lastDate']].groupby(['rowNumber'], as_index=False).sum() \\\n",
    "                                            .add_suffix('_sum')\n",
    "broccoli_cropData_ByRow.rename(index=str, columns={\"rowNumber_sum\": \"rowNumber\"}, inplace=True)\n",
    "broccoli_cropData_ByRow"
   ]
  },
  {
   "cell_type": "code",
   "execution_count": null,
   "metadata": {},
   "outputs": [],
   "source": [
    "# Korrelationsmatrix nach Reihe (in Feld)\n",
    "corr = broccoli_cropData_ByRow.drop('rowNumber', axis=1).corr()\n",
    "\n",
    "mask = np.zeros_like(corr, dtype=np.bool)\n",
    "mask[np.triu_indices_from(mask)] = True\n",
    "f, ax = plt.subplots(figsize=(6, 6))\n",
    "cmap = sns.diverging_palette(220, 10, as_cmap=True)\n",
    "sns.heatmap(corr, mask=mask, cmap=cmap, center=0, annot=False, vmin=-1, vmax=1, square=True, linewidths=.5, \n",
    "            cbar_kws={\"shrink\": .5})"
   ]
  },
  {
   "cell_type": "code",
   "execution_count": null,
   "metadata": {},
   "outputs": [],
   "source": [
    "broccoli_cropData_ByRow.drop('rowNumber', axis=1).corr()['NDVI_85_QUANTILE_lastDate_sum']"
   ]
  },
  {
   "cell_type": "markdown",
   "metadata": {},
   "source": [
    "## Meteomatics Daten"
   ]
  },
  {
   "cell_type": "code",
   "execution_count": null,
   "metadata": {},
   "outputs": [],
   "source": [
    "# Abfrage definieren und ausführen: Alle Meteomatics-Daten\n",
    "cnxn = pyodbc.connect('DRIVER='+driver+';SERVER='+server+';PORT=1433;DATABASE='+database+';UID='+username+';PWD='+ password)\n",
    "SQL_Query = pd.read_sql_query('SELECT * FROM dbo.meteomatics where timestamp < \\'2019-06-18\\'', cnxn)\n",
    "meteomatics_data = pd.DataFrame(SQL_Query)\n",
    "cnxn.close()\n",
    "\n",
    "meteomatics_data.head()"
   ]
  },
  {
   "cell_type": "code",
   "execution_count": null,
   "metadata": {},
   "outputs": [],
   "source": [
    "# Aggregieren der Meteomatics-Daten zwischen den Messzeitpunkten\n",
    "# Datum eine Woche vor erstem Messdatum hinzufügen -> Wetterdaten-Aggregation bis zu diesem Zeitpunkt\n",
    "meteomatics_aggregates = pd.DataFrame()\n",
    "dates_Meteomatics =['2019-04-11'] + dates\n",
    "\n",
    "i = 0\n",
    "while i < (len(dates_Meteomatics) - 1):\n",
    "    # Durchschnitte\n",
    "    measurementPeriod_data = meteomatics_data[((meteomatics_data.timestamp >= dates_Meteomatics[i]) & \n",
    "                                               (meteomatics_data.timestamp < dates_Meteomatics[i+1]))][[\n",
    "        'temperature', 'precipitation', 'radiation', 'relativeHumidity', 'wind', 'cloudCover']]\n",
    "    measurementPeriod_data_agg_mean = pd.DataFrame(measurementPeriod_data.agg(['mean']))\n",
    "    measurementPeriod_data_agg_mean = measurementPeriod_data_agg_mean.add_suffix('_mean')\n",
    "    measurementPeriod_data_agg_mean.reset_index(inplace=True, drop=True)\n",
    "    \n",
    "    # Summen\n",
    "    measurementPeriod_data = meteomatics_data[((meteomatics_data.timestamp >= dates_Meteomatics[i]) & \n",
    "                                               (meteomatics_data.timestamp < dates_Meteomatics[i+1]))][[\n",
    "        'precipitation', 'accumulatedEnergy']]\n",
    "    measurementPeriod_data_agg_sum = pd.DataFrame(measurementPeriod_data.agg(['sum']))\n",
    "    measurementPeriod_data_agg_sum = measurementPeriod_data_agg_sum.add_suffix('_sum')\n",
    "    measurementPeriod_data_agg_sum.reset_index(inplace=True, drop=True)\n",
    "    \n",
    "    # Durchschnitte und Summen zusammenfügen \n",
    "    measurementPeriod_data_agg = pd.concat([measurementPeriod_data_agg_mean, measurementPeriod_data_agg_sum], axis=1)\n",
    "    \n",
    "    # Datum von, Datum bis hinzufügen und Index definieren\n",
    "    measurementPeriod_data_agg['dateFrom'] = dates_Meteomatics[i]\n",
    "    measurementPeriod_data_agg['dateTo'] = dates_Meteomatics[i+1]\n",
    "    measurementPeriod_data_agg['index'] = i\n",
    "    measurementPeriod_data_agg.set_index(['index'], inplace=True)\n",
    "    \n",
    "    # Zu Aggregations-DataFrame hinzufügen\n",
    "    meteomatics_aggregates = pd.concat([meteomatics_aggregates, measurementPeriod_data_agg], axis=0)\n",
    "    \n",
    "    i = i + 1\n",
    "    \n",
    "display(meteomatics_aggregates)"
   ]
  },
  {
   "cell_type": "code",
   "execution_count": null,
   "metadata": {},
   "outputs": [],
   "source": [
    "broccoli_data_aggregates = pd.DataFrame()\n",
    "for date in dates:    \n",
    "    broccoli_data_byDate = broccoli_data[broccoli_data.timestamp == date][['medianNDVI', 'NDRE_85_QUANTILE', 'pixelCount']]\n",
    "    broccoli_data_byDate_agg = pd.DataFrame(broccoli_data_byDate.agg(['mean']))\n",
    "    broccoli_data_byDate_agg = broccoli_data_byDate_agg.add_suffix('_mean')\n",
    "    broccoli_data_byDate_agg['date'] = date\n",
    "    broccoli_data_aggregates = pd.concat([broccoli_data_aggregates, broccoli_data_byDate_agg], axis=0)\n",
    "    \n",
    "broccoli_data_aggregates.reset_index(inplace=True, drop=True)    \n",
    "display(broccoli_data_aggregates)"
   ]
  },
  {
   "cell_type": "code",
   "execution_count": null,
   "metadata": {},
   "outputs": [],
   "source": [
    "#plt.plot(broccoli_data_aggregates['date'],broccoli_data_aggregates[['meanNDVI']])\n",
    "#plt.plot(meteomatics_aggregates['dateTo'],meteomatics_aggregates[['temperature', 'relativeHumidity','precipitation']])\n",
    "#plt.show\n",
    "\n",
    "# Schriftgrösse für Plots definieren\n",
    "plt.rcParams.update({'font.size': 20})\n",
    "\n",
    "axes = meteomatics_aggregates.drop(['precipitation_sum', 'accumulatedEnergy_sum'], axis=1).plot.line(\n",
    "    x='dateTo', subplots=True, figsize=(10,10))\n",
    "plt.xticks(rotation=60)\n",
    "for ax in axes:\n",
    "    ax.legend(loc='center', bbox_to_anchor=(1.2, 0.3), shadow=False, ncol=1)\n",
    "    ax.xaxis.grid(True)\n",
    "    \n",
    "axes = broccoli_data_aggregates.plot.line(x='date', subplots=True, figsize=(10,8))\n",
    "plt.xticks(rotation=60)\n",
    "for ax in axes:\n",
    "    ax.legend(loc='center', bbox_to_anchor=(1.2, 0.5), shadow=False, ncol=1)\n",
    "    ax.xaxis.grid(True)\n",
    "    \n",
    "# Schriftgrösse für Plots zurücksetzen\n",
    "plt.rcParams.update({'font.size': 15})"
   ]
  },
  {
   "cell_type": "markdown",
   "metadata": {},
   "source": [
    "### Zusammensetzung der Wetter und Brokkoli-Daten\n"
   ]
  },
  {
   "cell_type": "code",
   "execution_count": null,
   "metadata": {},
   "outputs": [],
   "source": [
    "display(meteomatics_aggregates)\n",
    "display(broccoli_data_aggregates)"
   ]
  },
  {
   "cell_type": "code",
   "execution_count": null,
   "metadata": {},
   "outputs": [],
   "source": [
    "#Zusammenfügen der Brokkoli und Wetter Daten\n",
    "weather_broccoli_aggregates = pd.concat([meteomatics_aggregates, broccoli_data_aggregates], axis=1)\n",
    "weather_broccoli_aggregates.drop(['dateFrom', 'dateTo', 'date'], axis=1, inplace=True)"
   ]
  },
  {
   "cell_type": "code",
   "execution_count": null,
   "metadata": {
    "scrolled": false
   },
   "outputs": [],
   "source": [
    "from sklearn import preprocessing \n",
    "x = weather_broccoli_aggregates.values #returns a numpy array\n",
    "min_max_scaler = preprocessing.MinMaxScaler()\n",
    "x_scaled = min_max_scaler.fit_transform(x)\n",
    "normalized_weather_broccoli_aggregates = pd.DataFrame(x_scaled, columns=weather_broccoli_aggregates.columns) \n",
    "\n",
    "corr = normalized_weather_broccoli_aggregates.corr()\n",
    "\n",
    "# sns.set(font_scale=2)\n",
    "mask = np.zeros_like(corr, dtype=np.bool)\n",
    "mask[np.triu_indices_from(mask)] = True\n",
    "f, ax = plt.subplots(figsize=(20, 20))\n",
    "cmap = sns.diverging_palette(220, 10, as_cmap=True)\n",
    "sns.heatmap(corr, mask=mask, cmap=cmap, center=0, annot=True, vmin=-1, vmax=1, square=True, linewidths=.5, \n",
    "            cbar_kws={\"shrink\": .5})"
   ]
  },
  {
   "cell_type": "code",
   "execution_count": null,
   "metadata": {},
   "outputs": [],
   "source": [
    "normalized_weather_broccoli_diff = normalized_weather_broccoli_aggregates.diff()\n",
    "normalized_weather_broccoli_diff = normalized_weather_broccoli_diff.add_suffix(\n",
    "    '_diff')\n",
    "normalized_weather_broccoli_diff"
   ]
  },
  {
   "cell_type": "code",
   "execution_count": null,
   "metadata": {},
   "outputs": [],
   "source": [
    "# Korrelationen der Differenzen\n",
    "corr = normalized_weather_broccoli_diff.corr()\n",
    "\n",
    "mask = np.zeros_like(corr, dtype=np.bool)\n",
    "mask[np.triu_indices_from(mask)] = True\n",
    "f, ax = plt.subplots(figsize=(20, 20))\n",
    "cmap = sns.diverging_palette(220, 10, as_cmap=True)\n",
    "sns.heatmap(corr, mask=mask, cmap=cmap, center=0, annot=True, vmin=-1, vmax=1, square=True, linewidths=.5, \n",
    "            cbar_kws={\"shrink\": .5})"
   ]
  },
  {
   "cell_type": "code",
   "execution_count": null,
   "metadata": {},
   "outputs": [],
   "source": [
    "axes = normalized_weather_broccoli_diff.plot(y=['medianNDVI_mean_diff', 'NDRE_85_QUANTILE_mean_diff', 'pixelCount_mean_diff', \n",
    "                                         'precipitation_mean_diff', 'precipitation_sum_diff', 'temperature_mean_diff'], \n",
    "                                      title='''Differenz (normalisiert) NDRE, NDVI, Pixel-Anzahl im Vergleich zu korrelierendenFeatures''',\n",
    "                                      subplots=True,figsize=(20,30), grid=True)\n",
    "\n",
    "axes[len(axes)-1].set_xticklabels(dates)\n",
    "\n",
    "for ax in axes:\n",
    "    ax.legend(loc='center', bbox_to_anchor=(1.05, 0.8), shadow=False, ncol=1)\n",
    "    ax.xaxis.grid(True)"
   ]
  },
  {
   "cell_type": "code",
   "execution_count": null,
   "metadata": {},
   "outputs": [],
   "source": []
  }
 ],
 "metadata": {
  "kernelspec": {
   "display_name": "Python 3",
   "language": "python",
   "name": "python3"
  },
  "language_info": {
   "codemirror_mode": {
    "name": "ipython",
    "version": 3
   },
   "file_extension": ".py",
   "mimetype": "text/x-python",
   "name": "python",
   "nbconvert_exporter": "python",
   "pygments_lexer": "ipython3",
   "version": "3.7.1"
  }
 },
 "nbformat": 4,
 "nbformat_minor": 2
}
