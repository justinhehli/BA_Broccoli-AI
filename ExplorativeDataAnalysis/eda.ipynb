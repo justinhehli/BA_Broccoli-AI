{
 "cells": [
  {
   "cell_type": "markdown",
   "metadata": {},
   "source": [
    "# Explorative Datenanalyse\n",
    "Im Folgenden werden die gemessenen Index-Werte der Brokkoli analysiert. Im Vorfeld wurden diese bereits innerhalb der Voronoi-Zellen segmentiert, das heisst Es werden nur noch die Pixel gewertet, welche zum Brokkoli gehören, ohne die Erde darum zu berücksichtigen."
   ]
  },
  {
   "cell_type": "code",
   "execution_count": null,
   "metadata": {},
   "outputs": [],
   "source": [
    "%reset\n",
    "\n",
    "# Datenabfrage von Server-DB\n",
    "import pyodbc\n",
    "import pandas as pd\n",
    "import matplotlib.pyplot as plt\n",
    "import numpy as np\n",
    "\n",
    "class font:\n",
    "    BOLD = '\\033[1m'\n",
    "    END = '\\033[0m'\n",
    "    UNDERLINE = '\\033[4m'\n",
    "\n",
    "# Liste der Daten, die berücksichtigt werden\n",
    "dates = ['2019-04-18', '2019-04-25', '2019-05-01', '2019-05-09', '2019-05-16', '2019-05-24', '2019-06-04','2019-06-13', \n",
    "         '2019-06-18']\n",
    "\n",
    "# Angeben, ob Blacklist einbezogen wird\n",
    "useBlacklist = True\n",
    "\n",
    "# Verbindungsaufbau\n",
    "server = 'deepbroccoliserver.database.windows.net'\n",
    "database = 'DeepBroccoliDatabase'\n",
    "username = 'ntb'\n",
    "password = 'brokkoli_2019'\n",
    "driver= '{SQL Server}'\n",
    "cnxn = pyodbc.connect('DRIVER='+driver+';SERVER='+server+';PORT=1433;DATABASE='+database+';UID='+username+';PWD='+ password)\n",
    "\n",
    "# Abfrage definieren und ausführen: Alle Brokkoli mit allen dazugehörigen Messwerten \n",
    "query = '''\n",
    "select dbo.broccoli.id, dbo.broccoli.cropWeight, dbo.broccoli.cropMissing, dbo.broccoli.cropOverripe, \n",
    "dbo.broccoli.cropRudimentary, dbo.broccoli.cropRotten, dbo.broccoli.cropUnripe, dbo.broccoli.cropNoBlossom,  \n",
    "dbo.broccolivalues.timestamp, dbo.broccoli.lat, dbo.broccoli.long, dbo.broccolivalues.pixelCount, dbo.broccolivalues.maxNDVI, \n",
    "dbo.broccolivalues.minNDVI, dbo.broccolivalues.meanNDVI, dbo.broccolivalues.medianNDVI, \n",
    "dbo.broccolivalues.NDVI_15_QUANTILE, dbo.broccolivalues.NDVI_25_QUANTILE, dbo.broccolivalues.NDVI_75_QUANTILE, \n",
    "dbo.broccolivalues.NDVI_85_QUANTILE,\n",
    "dbo.broccolivalues.maxNDRE, dbo.broccolivalues.minNDRE, dbo.broccolivalues.meanNDRE, dbo.broccolivalues.medianNDRE,\n",
    "dbo.broccolivalues.NDRE_15_QUANTILE, dbo.broccolivalues.NDRE_25_QUANTILE, dbo.broccolivalues.NDRE_75_QUANTILE,\n",
    "dbo.broccolivalues.NDRE_85_QUANTILE\n",
    "from dbo.broccoli inner join dbo.broccolivalues on dbo.broccoli.id = dbo.broccolivalues.id'''\n",
    "\n",
    "# Blacklist einbeziehen: Brokkoli-IDs in Blacklist werden gefiltert\n",
    "if useBlacklist:\n",
    "    query = query + ''' where dbo.broccoli.id not in (select broccoli_id from dbo.broccoliBlacklist)'''\n",
    "\n",
    "broccoli_data = pd.read_sql_query(query, cnxn)\n",
    "cnxn.close()\n",
    "\n",
    "# Löschen von Datensätzen mit NaN-Werten (Ist der Fall falls pixelCount == 0)\n",
    "#print()\n",
    "#print(\"Anzahl Datensätze: \" + str(len(broccoli_data)))\n",
    "\n",
    "#broccoli_data.dropna(inplace=True)\n",
    "#print(\"Anzahl Datensätze ohne NaN: \" + str(len(broccoli_data)))\n",
    "#print()\n",
    "\n",
    "# Describe: Erste Übersicht\n",
    "for date in dates:    \n",
    "    broccoli_data_byDate = broccoli_data[broccoli_data.timestamp == date]\n",
    "    print(font.BOLD + font.UNDERLINE + date + font.END)\n",
    "    display(broccoli_data_byDate.describe())\n",
    "    print()"
   ]
  },
  {
   "cell_type": "code",
   "execution_count": null,
   "metadata": {},
   "outputs": [],
   "source": [
    "# True/False Erntelabels zu 0/1\n",
    "broccoli_data.cropMissing = broccoli_data.cropMissing.astype(int)\n",
    "broccoli_data.cropOverripe = broccoli_data.cropOverripe.astype(int)\n",
    "broccoli_data.cropRudimentary = broccoli_data.cropRudimentary.astype(int)\n",
    "broccoli_data.cropRotten = broccoli_data.cropRotten.astype(int)\n",
    "broccoli_data.cropUnripe = broccoli_data.cropUnripe.astype(int)\n",
    "broccoli_data.cropNoBlossom = broccoli_data.cropNoBlossom.astype(int)\n"
   ]
  },
  {
   "cell_type": "markdown",
   "metadata": {},
   "source": [
    "## Analyse der Pixel-Anzahl (pixelCount)\n",
    "Als erstes werden die Anzahl Pixel, die nach der Segmentierung eine Brokkoli-Pflanze darstellen, analysiert. Hier wird versucht, inkorrekt oders seltsam segmentierte Daten zu finden."
   ]
  },
  {
   "cell_type": "code",
   "execution_count": null,
   "metadata": {},
   "outputs": [],
   "source": [
    "# Boxplot der Pixelanzahl gruppiert nach Datum\n",
    "broccoli_data.boxplot(by=\"timestamp\", column=['pixelCount'], figsize=(10,8))\n",
    "plt.xticks(rotation=45)"
   ]
  },
  {
   "cell_type": "markdown",
   "metadata": {},
   "source": [
    "### Zwischenfazit Pixel-Anzahl Boxplot\n",
    "Es ist komisch, dass vom 13.06.19 auf den 18.06.19 der pixelCount niedriger wird.<br>\n",
    "ToDo: Die Segmentierung muss geprüft und allenfalls überarbeitet werden."
   ]
  },
  {
   "cell_type": "code",
   "execution_count": null,
   "metadata": {},
   "outputs": [],
   "source": [
    "# Analyse pixelCount: Datensätze in Bereich ausserhalb bestimmter Quantile analysieren\n",
    "# Erstellung von CSV und HTML Export zur manuellen Analyse und Erstellung eine Blacklist mit inkorrekt segmentierten Datensätzen\n",
    "\n",
    "pixelCountNotable = pd.DataFrame()\n",
    "for date in dates:    \n",
    "    # Listen mit Pflanzen mit pixelCount > [quantile_Lower]-Quantil bzw. < [quantile_Upper]-Quantil erstellen\n",
    "    broccoli_data_byDate = broccoli_data[broccoli_data.timestamp == date]\n",
    "    \n",
    "    quantile_Lower = 0.03\n",
    "    quantile_Upper = 0.97\n",
    "    \n",
    "    underLowerQuant = broccoli_data_byDate[broccoli_data_byDate.pixelCount < \n",
    "                                        broccoli_data_byDate['pixelCount'].quantile(quantile_Lower)][['id', 'pixelCount']]\n",
    "    overUpperQuant = broccoli_data_byDate[broccoli_data_byDate.pixelCount > \n",
    "                                       broccoli_data_byDate['pixelCount'].quantile(quantile_Upper)][['id', 'pixelCount']]\n",
    "    \n",
    "    # Liste aller gefilterter IDs nach Datum erstellen\n",
    "    underLowerQuant[date + \"_Under\"] = 1\n",
    "    overUpperQuant[date + \"_Over\"] = 1\n",
    "    underLowerQuant.set_index('id', inplace=True)\n",
    "    overUpperQuant.set_index('id', inplace=True)\n",
    "    pixelCountNotable = pd.concat([pixelCountNotable, underLowerQuant[date + \"_Under\"]], axis=1)\n",
    "    pixelCountNotable = pd.concat([pixelCountNotable, overUpperQuant[date + \"_Over\"]], axis=1)    \n",
    "    underLowerQuant.drop([date + \"_Under\"], axis=1, inplace=True)\n",
    "    overUpperQuant.drop([date + \"_Over\"], axis=1, inplace=True)\n",
    "    underLowerQuant.reset_index(inplace=True)\n",
    "    overUpperQuant.reset_index(inplace=True)\n",
    "    \n",
    "    # CSV mit IDs der Pflanzen mit pixelCount < [quantile_Lower]-Quantil oder > [quantile_Upper]-Quantil erstellen\n",
    "    underLowerQuant['toBlacklist']= 0\n",
    "    overUpperQuant['toBlacklist']= 0\n",
    "    np.savetxt(\"pixelCount_notableIDs_\" + date + \".csv\", pd.concat([underLowerQuant, overUpperQuant]), \n",
    "               header=\"id;pixelCount;toBlacklist\", delimiter=\";\", fmt=\"%d\", comments='')    \n",
    "    \n",
    "    # HTML mit den Segmentierungs-Bildern erstellen\n",
    "    strHtml = \"\"\n",
    "    for index, row in pd.concat([underLowerQuant, overUpperQuant]).iterrows():\n",
    "        strId = str(row[\"id\"])\n",
    "        strHtml += \"<p>#\" + strId + \" ; pixelCount = \" + str(row[\"pixelCount\"]) + \"</p>\\n\"\n",
    "        strHtml += \"<img src=\\\"\\\\\\\\fs004\\\\ice\\\\Lehre\\\\Bachelorarbeiten\\\\2019\\\\Pflanzen\\\\Drohnenaufnahmen\\\\\" \\\n",
    "        + (str(date)).replace('-', '') + \"\\\\report\\\\images\\\\\" + strId + \"\\\\ndvi_ndre_cutout_comparision_\" + strId + \".png\\\">\\n\"\n",
    "       \n",
    "    \n",
    "    html = open(\"pixelCount_NotableImages_\" + date + \".html\", 'w')\n",
    "    html.write(strHtml)\n",
    "    html.close()\n",
    "    \n",
    "    # Ausgabe der Anzahlen\n",
    "    nofUnderLowerQuant = len(underLowerQuant)\n",
    "    nofOverUpperQuant = len(overUpperQuant)\n",
    "    \n",
    "    print(date + \":: <\" + str(quantile_Lower*100) + \"%; \" + str(nofUnderLowerQuant) + \" | >\" + str(quantile_Upper*100) + \"%; \"\n",
    "          + str(nofOverUpperQuant))\n",
    "    \n",
    "# Ausgabe Liste aller gefilterter IDs nach Datum\n",
    "pixelCountNotable.fillna(value=0, inplace=True)\n",
    "pixelCountNotable.to_csv(\"pixelCount_Notable_PerDate.csv\", sep=';')"
   ]
  },
  {
   "cell_type": "markdown",
   "metadata": {},
   "source": [
    "### Zwischenfazit pixelCount, Stand 21.05.2019\n",
    "Da im Boxplot ersichtlich ist, dass es einige Ausreisser gibt, werden die Datensätze mit pixelCount ausserhalb der 2%- bzw. 98%-Quantile genauer untersucht (Muss allenfalls auf z.B. 5%, 95% ausgeweitet werden). Dazu werden je Datum eine CSV- und eine HTML-Datei erstellt, mit den IDs, dem pixelCount und den Vergleichsbildern der Segmentierung (im HTML). Diese müssen manuell kontrolliert werden, danach können Datensätze entweder gelöscht oder angepasst werden.\n",
    "Im Vergleich zu den alten Daten (nicht mehr ersichtlich da überschrieben), gibt es aber vorallem nach oben, über der 75%-Quantils-Grenze, weniger krasse Ausreisser."
   ]
  },
  {
   "cell_type": "markdown",
   "metadata": {},
   "source": [
    "## Analyse der NDVI und NDRE Messwerte\n",
    "Im Folgenden werden die aggregierten NDVI und NDRE Werte der segmentierten Bilder analysiert. Es werden Ausreisser und auffällige Messwerte gesucht, zeitliche Verläufe der Werte, und Abhängigkeiten zwischen den Indizes. Ein Plot mit y-Achse = NDRE und x-Achse = NDVI würde die Grundlage für die Berechnung des CCCI bilden.\n",
    "\n",
    "## NDVI"
   ]
  },
  {
   "cell_type": "code",
   "execution_count": null,
   "metadata": {},
   "outputs": [],
   "source": [
    "# Boxplot der NDVI-Werte gruppiert nach Datum\n",
    "columns = ['maxNDVI', 'NDVI_85_QUANTILE', 'minNDVI', 'NDVI_15_QUANTILE', 'meanNDVI', 'medianNDVI']\n",
    "ax = broccoli_data.boxplot(by=\"timestamp\", column=columns, layout=(3,2), figsize=(15,25), rot=90)"
   ]
  },
  {
   "cell_type": "markdown",
   "metadata": {},
   "source": [
    "### Zwischenfazit NDVI, Stand 21.05.2019\n",
    "Es ist ersichtlich, dass die NDVI-Werte mit der Zeit im Mittel tendenziell steigen.\n",
    "Statt der Max-/Min-Werte sollten eher die 15%-/85%-Quantile verwenedet werden, um Ausreisser zu vermeiden. Es ist jedoch ersichtlich, dass diese ähnlich oder fast stärker streuen als die Max-/Min-Werte. \n",
    "\n",
    "## NDRE"
   ]
  },
  {
   "cell_type": "code",
   "execution_count": null,
   "metadata": {},
   "outputs": [],
   "source": [
    "# Boxplot der NDRE-Werte gruppiert nach Datum\n",
    "columns = ['maxNDRE', 'NDRE_85_QUANTILE', 'minNDRE', 'NDRE_15_QUANTILE', 'meanNDRE', 'medianNDRE']\n",
    "ax = broccoli_data.boxplot(by=\"timestamp\", column=columns, layout=(3,2), figsize=(15,25), rot=90)"
   ]
  },
  {
   "cell_type": "markdown",
   "metadata": {},
   "source": [
    "### Zwischenfazit NDRE, Stand 21.05.2019\n",
    "Bei dem NDRE-Messwerten ist ersichtlich, dass die Streuung um den Mittelwert bei den 15%-/85%-Quantilen kleiner ist als bei den Min-/Max-Werten. zudem steigen die NDRE Messwerte nicht kontinuierlich, sondern fallen und steigen wieder. Dass die unteren und oberen Werten ähnlich fallen und steigen, lässt auf eine gewisse Konsistenz in der Datenerfassung schliessen.\n",
    "\n",
    "## Plot NDVI/NDRE\n",
    "Für die allfällige Berechnung des CCCI ist ein Scatterplot mit x-Achse = NDVI und y-Achse = NDRE die Voraussetzung. Im Folgenden wird dieser mit den 85%-Quantilen und mit den Mittelwerten der Datensätze erstellt."
   ]
  },
  {
   "cell_type": "code",
   "execution_count": null,
   "metadata": {},
   "outputs": [],
   "source": [
    "import seaborn as sns \n",
    "sns.lmplot(x='NDVI_85_QUANTILE', y='NDRE_85_QUANTILE', data=broccoli_data, hue='timestamp', fit_reg=False)\n",
    "axes = plt.gca()\n",
    "axes.set_xlim([0,1])\n",
    "axes.set_ylim([0,1])\n",
    "plt.show()"
   ]
  },
  {
   "cell_type": "code",
   "execution_count": null,
   "metadata": {},
   "outputs": [],
   "source": [
    "sns.lmplot(x='maxNDVI', y='maxNDRE', data=broccoli_data, hue='timestamp', fit_reg=False)\n",
    "axes = plt.gca()\n",
    "axes.set_xlim([0,1])\n",
    "axes.set_ylim([0,1])\n",
    "plt.show()"
   ]
  },
  {
   "cell_type": "code",
   "execution_count": null,
   "metadata": {},
   "outputs": [],
   "source": [
    "sns.lmplot(x='pixelCount', y='meanNDVI', data=broccoli_data, hue='timestamp', fit_reg=False)\n",
    "axes = plt.gca()\n",
    "axes.set_ylim([0,1])\n",
    "plt.show()"
   ]
  },
  {
   "cell_type": "code",
   "execution_count": null,
   "metadata": {},
   "outputs": [],
   "source": [
    "sns.lmplot(x='pixelCount', y='NDRE_85_QUANTILE', data=broccoli_data, hue='timestamp', fit_reg=False)\n",
    "axes = plt.gca()\n",
    "axes.set_ylim([0,1])\n",
    "plt.show()"
   ]
  },
  {
   "cell_type": "markdown",
   "metadata": {},
   "source": [
    "### Zwischenfazit NDVI/NDRE, Stand 21.05.2019\n",
    "Wie in den Scatterplots ersichtlich ist, sind die Datenwolken nach Datum einigermassen örtlich gruppiert. Dabei treten jedoch sehr verschiedene NDRE-Werte pro Datum und auch NDVI-Wert auf. Eine lineare Beziehung NDVI->NDRE, wie sie in der Literatur (vergleiche Fachmodul) gezeigt wurde, ist nicht wirklich sichtbar. Die Berechnung des CCCI anhand dieser Daten ist momentan noch nicht vielversprechend, könnte jedoch gewagt werden. Abzuwarten ist, ob die NDRE-Werte mit der Zeit noch ansteigen, da sie mittlerweile eher tiefe Werte annehmen."
   ]
  },
  {
   "cell_type": "markdown",
   "metadata": {},
   "source": [
    "## Analyse der Erntedaten\n",
    "In diesem Schritt werden die Erntedaten, dass heisst Gewicht und Zustand, in Zusammenhang mit den Messdaten (Vegetationsindizes, Wetterdaten) untersucht.<br>\n",
    "Versucht wird eine Korrelation zwischen den Indizes oder dem Wetter und dem Erntegewicht zu finden. Das Erntegewicht ist hauptsächlich die Response eines potentiellen ML-Modelles, wobei auch noch der Zustand berücksichtigt werden kann. Zustände sind:<br>\n",
    "* Fehlt: Brokkoli wurde bei der Ernte nicht gefunden\n",
    "* Überreif\n",
    "* Verkümmert: Pflanze ist fast gar nicht gewachsen und hat kleine Blätter\n",
    "* Kein Kopf: Pflanze hat zwar grosse Blätter aber keinen 'Kopf' bzw. keine Blüte\n",
    "* Faul\n",
    "* Unreif (alle Brokkoli unter 300g)\n",
    "\n",
    "### Korrelationen zwischen Vegetationsindizes, Pixel-Anzahl und Erntegewicht\n",
    "In einem ersten Schritt wird durch verschiedene Plots versucht, eine erhoffte Korrelation der Vegetationsindizes oder der Pixel-Anzahl (gemäss Segmentierung) und dem Erntegewicht zu finden.\n",
    "\n",
    "#### Untersuchung letzte Messung - Unverrechnete Werte\n",
    "Da die Pflanzen bei der letzten Messung am 18.06.19, am Tag vor der Ernte, am weitesten entwickelt waren, wird zuerst diese Messung mit den Erntedaten verglichen."
   ]
  },
  {
   "cell_type": "code",
   "execution_count": null,
   "metadata": {},
   "outputs": [],
   "source": [
    "# Daten mit den Messwerten der letzen Messung filtern\n",
    "broccoli_data_lastDate = broccoli_data[broccoli_data.timestamp == '2019-06-18']\n",
    "\n",
    "# Scatterplot NDRE 85%-Quantil - Gewicht\n",
    "sns.jointplot(x='NDRE_85_QUANTILE', y='cropWeight', data=broccoli_data_lastDate, kind='reg',\n",
    "             joint_kws={'line_kws':{'color':'cyan'}})\n",
    "\n",
    "# Horizontale Linie, welche das Minimalgewicht für Reife darstellt\n",
    "plt.axhline(y=300, color='red')\n",
    "\n",
    "# Skala NDRE auf [0,1] setzen\n",
    "axes = plt.gca()\n",
    "axes.set_xlim([0,1])\n",
    "plt.show()"
   ]
  },
  {
   "cell_type": "code",
   "execution_count": null,
   "metadata": {},
   "outputs": [],
   "source": [
    "# Scatterplot NDRE 15%-Quantil - Gewicht\n",
    "sns.jointplot(x='NDRE_15_QUANTILE', y='cropWeight', data=broccoli_data_lastDate, kind='reg',\n",
    "             joint_kws={'line_kws':{'color':'cyan'}})\n",
    "\n",
    "# Horizontale Linie, welche das Minimalgewicht für Reife darstellt\n",
    "plt.axhline(y=300, color='red')\n",
    "\n",
    "# Skala NDRE auf [0,1] setzen\n",
    "axes = plt.gca()\n",
    "axes.set_xlim([0,1])\n",
    "plt.show()"
   ]
  },
  {
   "cell_type": "code",
   "execution_count": null,
   "metadata": {},
   "outputs": [],
   "source": [
    "# Scatterplot NDVI 85%-Quantil - Gewicht\n",
    "sns.jointplot(x='NDVI_85_QUANTILE', y='cropWeight', data=broccoli_data_lastDate, kind='reg',\n",
    "             joint_kws={'line_kws':{'color':'cyan'}})\n",
    "\n",
    "# Horizontale Linie für minimales Erntegewicht\n",
    "plt.axhline(y=300, color='red')\n",
    "\n",
    "# Skala NDVI auf [0,1] setzen\n",
    "axes = plt.gca()\n",
    "axes.set_xlim([0,1])\n",
    "plt.show()"
   ]
  },
  {
   "cell_type": "code",
   "execution_count": null,
   "metadata": {},
   "outputs": [],
   "source": [
    "# Scatterplot Pixel-Anzahl - Erntegewicht\n",
    "sns.jointplot(x='pixelCount', y='cropWeight', data=broccoli_data_lastDate, kind='reg',\n",
    "             joint_kws={'line_kws':{'color':'cyan'}})\n",
    "\n",
    "# Horizontale Linie für minimales Erntegewicht\n",
    "plt.axhline(y=300, color='red')\n",
    "plt.show()"
   ]
  },
  {
   "cell_type": "markdown",
   "metadata": {},
   "source": [
    "#### Untersuchung verrechnete Werte\n",
    "Da keine ersichtliche Korrelation zwischen NDVI/NDRE/Pixel-Anzahl und Gewicht gefunden wurde, werden in diesem Schritt bestimmte Werte berechnet, die nicht nur Messwerte an einem Datum darstellen. Das kann beispielsweise die Summe des durchschnittlichen NDVI über alle Messdaten sein."
   ]
  },
  {
   "cell_type": "code",
   "execution_count": null,
   "metadata": {},
   "outputs": [],
   "source": [
    "# Erstellung eines DataFrames zur Untersuchung der Erntedaten mit verrechneten Werten\n",
    "# broccoli_data_lastDate beinhaltet zu jedem Brokkoli nur ein Datum, das DataFrame enthält zu Beginn nur Brokkoli-IDs \n",
    "# und deren Gewicht\n",
    "broccoli_cropData = broccoli_data_lastDate[['id', 'cropWeight','cropMissing', 'cropOverripe', \n",
    "'cropRudimentary', 'cropRotten', 'cropUnripe', 'cropNoBlossom']].copy()\n",
    "\n",
    "# Berechnung der Differenz des NDRE-85%-Quantils zwischen dem letzen und dem ersten Messdatum für jeden Brokkoli\n",
    "broccoli_cropData = broccoli_cropData.merge(broccoli_data[broccoli_data.timestamp == '2019-06-18'][['id', 'NDRE_85_QUANTILE']], \n",
    "                                            left_on='id', right_on='id')\n",
    "broccoli_cropData = broccoli_cropData.merge(broccoli_data[broccoli_data.timestamp == '2019-04-18'][['id', 'NDRE_85_QUANTILE']], \n",
    "                                            left_on='id', right_on='id', suffixes=('_0618', '_0418'))\n",
    "broccoli_cropData['NDRE_85_QUANTILE_diff'] = (broccoli_cropData['NDRE_85_QUANTILE_0618'] - \n",
    "                                              broccoli_cropData['NDRE_85_QUANTILE_0418'])\n",
    "broccoli_cropData.drop(['NDRE_85_QUANTILE_0618', 'NDRE_85_QUANTILE_0418'], axis=1, inplace=True)\n",
    "\n",
    "# Scatterplot Differenz NDRE-85%-Quantil - Gewicht\n",
    "sns.jointplot(x='NDRE_85_QUANTILE_diff', y='cropWeight', data=broccoli_cropData, kind='reg',\n",
    "             joint_kws={'line_kws':{'color':'cyan'}})\n",
    "\n",
    "# Horizontale Linie für minimales Erntegewicht\n",
    "plt.axhline(y=300, color='red')\n",
    "plt.show()"
   ]
  },
  {
   "cell_type": "code",
   "execution_count": null,
   "metadata": {},
   "outputs": [],
   "source": [
    "# Berechnung der Summen aller Messwerte für jeden Brokkoli\n",
    "broccoli_cropData = broccoli_cropData.merge(broccoli_data.drop(['lat', 'long', 'cropWeight'], axis=1).groupby(['id']).sum().\n",
    "                                            add_suffix('_sum'), left_on='id', right_on='id')\n",
    "broccoli_cropData.head()"
   ]
  },
  {
   "cell_type": "code",
   "execution_count": null,
   "metadata": {},
   "outputs": [],
   "source": [
    "# Scatterplot Summe NDRE-85%-Quantil - Gewicht\n",
    "sns.jointplot(x='NDRE_85_QUANTILE_sum', y='cropWeight', data=broccoli_cropData, kind='reg',\n",
    "             joint_kws={'line_kws':{'color':'cyan'}})\n",
    "\n",
    "# Horizontale Linie für minimales Erntegewicht\n",
    "plt.axhline(y=300, color='red')\n",
    "plt.show()"
   ]
  },
  {
   "cell_type": "code",
   "execution_count": null,
   "metadata": {},
   "outputs": [],
   "source": [
    "# Scatterplot Summe Median-NDVI - Gewicht\n",
    "sns.jointplot(x='medianNDVI_sum', y='cropWeight', data=broccoli_cropData, kind='reg',\n",
    "             joint_kws={'line_kws':{'color':'cyan'}})\n",
    "\n",
    "# Horizontale Linie für minimales Erntegewicht\n",
    "plt.axhline(y=300, color='red')\n",
    "plt.show()"
   ]
  },
  {
   "cell_type": "code",
   "execution_count": null,
   "metadata": {},
   "outputs": [],
   "source": [
    "# Berechnung der Integrale des Median-NDVI, Median-NDRE\n",
    "# x-Achse für Integration ist die Anzahl Tage seit erstem Messtag (Erster Messtag = 0) \n",
    "from scipy import integrate\n",
    "\n",
    "# Hinzufügen der Spalten mit Initialwert 0.0\n",
    "broccoli_cropData['medianNDVI_Integral'] = 0.0\n",
    "broccoli_cropData['medianNDRE_Integral'] = 0.0\n",
    "broccoli_cropData['pixelCount_Integral'] = 0.0\n",
    "\n",
    "# x-Werte für Integration (Tage seit erstem Messdatum)\n",
    "x = [0, 7, 13, 21, 28, 36, 47, 56, 62]\n",
    "\n",
    "# Berechnung der Integrale für jeden Brokkoli\n",
    "for index, row in broccoli_cropData.iterrows():\n",
    "    #if(len(broccoli_data[broccoli_data.id==row['id']]['medianNDVI'].to_numpy()) == 9):\n",
    "    broccoli_cropData.at[index, 'medianNDVI_Integral'] = integrate.cumtrapz(broccoli_data[broccoli_data.id==row['id']]\n",
    "                                                                            ['medianNDVI'].to_numpy(), x=x, initial=0)[8]\n",
    "    broccoli_cropData.at[index, 'medianNDRE_Integral'] = integrate.cumtrapz(broccoli_data[broccoli_data.id==row['id']]\n",
    "                                                                            ['medianNDRE'].to_numpy(), x=x, initial=0)[8]\n",
    "    broccoli_cropData.at[index, 'pixelCount_Integral'] = integrate.cumtrapz(broccoli_data[broccoli_data.id==row['id']]\n",
    "                                                                            ['pixelCount'].to_numpy(), x=x, initial=0)[8]\n",
    "\n",
    "broccoli_cropData.head()"
   ]
  },
  {
   "cell_type": "code",
   "execution_count": null,
   "metadata": {},
   "outputs": [],
   "source": [
    "# Scatterplot Integral Median-NDVI - Gewicht\n",
    "sns.jointplot(x='medianNDVI_Integral', y='cropWeight', data=broccoli_cropData, kind='reg',\n",
    "             joint_kws={'line_kws':{'color':'cyan'}})\n",
    "\n",
    "# Skala Integral NDVI auf [40,50] setzen\n",
    "axes = plt.gca()\n",
    "axes.set_xlim([40,50])\n",
    "\n",
    "# Horizontale Line für minimales Reifegewicht\n",
    "plt.axhline(y=300, color='red')\n",
    "plt.show()"
   ]
  },
  {
   "cell_type": "code",
   "execution_count": null,
   "metadata": {},
   "outputs": [],
   "source": [
    "# Scatterplot Integral Median-NDRE - Gewicht\n",
    "sns.jointplot(x='medianNDRE_Integral', y='cropWeight', data=broccoli_cropData, kind='reg',\n",
    "             joint_kws={'line_kws':{'color':'cyan'}})\n",
    "\n",
    "# Skala Integral NDRE auf 6,16] setzen\n",
    "axes = plt.gca()\n",
    "axes.set_xlim([6,16])\n",
    "\n",
    "# Horizontale Linie für minimales Reifegewicht\n",
    "plt.axhline(y=300, color='red')\n",
    "plt.show()"
   ]
  },
  {
   "cell_type": "code",
   "execution_count": null,
   "metadata": {},
   "outputs": [],
   "source": [
    "# Verrechnung NDVI/NDRE Integrale\n",
    "broccoli_cropData['NDRE_NDVI_norm'] = ((broccoli_cropData['medianNDRE_Integral'] * broccoli_cropData['medianNDVI_Integral'])\n",
    "                                       / (broccoli_cropData['medianNDRE_Integral'] + broccoli_cropData['medianNDVI_Integral']))\n",
    "\n",
    "# Scatterplot Verrechnung NDVI/NDRE Integrale - Gewicht\n",
    "sns.jointplot(x='NDRE_NDVI_norm', y='cropWeight', data=broccoli_cropData, kind='reg',\n",
    "             joint_kws={'line_kws':{'color':'cyan'}})\n",
    "\n",
    "# Horizontale Linie für minimales Reifegewicht\n",
    "plt.axhline(y=300, color='red')\n",
    "plt.show()\n"
   ]
  },
  {
   "cell_type": "code",
   "execution_count": null,
   "metadata": {},
   "outputs": [],
   "source": [
    "# Verrechnung NDVI / pixel Count\n",
    "broccoli_cropData['NDVI_pixelCount_norm'] = ((broccoli_cropData['pixelCount_Integral'] * broccoli_cropData['medianNDVI_Integral'])\n",
    "                                       / (broccoli_cropData['pixelCount_Integral'] + broccoli_cropData['medianNDVI_Integral']))\n",
    "\n",
    "# Scatterplot Verrechnung NDVI/NDRE Integrale - Gewicht\n",
    "sns.jointplot(x='NDVI_pixelCount_norm', y='cropWeight', data=broccoli_cropData, kind='reg',\n",
    "             joint_kws={'line_kws':{'color':'cyan'}})\n",
    "\n",
    "# Horizontale Linie für minimales Reifegewicht\n",
    "plt.axhline(y=300, color='red')\n",
    "plt.show()"
   ]
  },
  {
   "cell_type": "markdown",
   "metadata": {},
   "source": [
    "#### Analyse unreifer, schadhafter Brokkoli\n",
    "Nun werden noch die unreifen und schadhaften (d.h. eines der Ernte Labels wurde gesetzt) untersucht. Allenfalls können Ausreisser bei der Pixel-Anzahl/NDVI/NDRE auf einen schadhaften Zustand bei der Ernte hinweisen.<br>\n",
    "Wie oben erwähnt sind die Labels:<br>\n",
    "* Fehlt: Brokkoli wurde bei der Ernte nicht gefunden\n",
    "* Überreif\n",
    "* Verkümmert: Pflanze ist fast gar nicht gewachsen und hat kleine Blätter\n",
    "* Kein Kopf: Pflanze hat zwar grosse Blätter aber keinen 'Kopf' bzw. keine Blüte\n",
    "* Faul\n",
    "* Unreif (alle Brokkoli unter 300g)"
   ]
  },
  {
   "cell_type": "code",
   "execution_count": null,
   "metadata": {},
   "outputs": [],
   "source": [
    "# Scatterplot Verrechnung NDVI/NDRE Integrale - Erntelabel\n",
    "columnsCropLabels = ['cropMissing', 'cropOverripe', 'cropRudimentary', 'cropRotten', 'cropUnripe', 'cropNoBlossom']\n",
    "for column in columnsCropLabels:    \n",
    "    sns.scatterplot(x='medianNDRE_Integral', y=column, data=broccoli_cropData)\n",
    "    axes = plt.gca()\n",
    "    axes.set_ylim([-0.1,1.1])    \n",
    "    plt.show()"
   ]
  },
  {
   "cell_type": "code",
   "execution_count": null,
   "metadata": {},
   "outputs": [],
   "source": [
    "for column in columnsCropLabels:    \n",
    "    sns.scatterplot(x='medianNDVI_Integral', y=column, data=broccoli_cropData)\n",
    "    axes = plt.gca()\n",
    "    axes.set_ylim([-0.1,1.1])    \n",
    "    plt.show()"
   ]
  },
  {
   "cell_type": "code",
   "execution_count": null,
   "metadata": {},
   "outputs": [],
   "source": [
    "corr = broccoli_cropData.corr()\n",
    "fig = plt.figure()\n",
    "fig = plt.figure(figsize=(20,20))\n",
    "ax = fig.add_subplot(111)\n",
    "cax = ax.matshow(corr,cmap='coolwarm', vmin=-1, vmax=1)\n",
    "fig.colorbar(cax)\n",
    "ticks = np.arange(0,len(broccoli_cropData.columns),1)\n",
    "ax.set_xticks(ticks)\n",
    "plt.xticks(rotation=90)\n",
    "ax.set_yticks(ticks)\n",
    "ax.set_xticklabels(broccoli_cropData.columns)\n",
    "ax.set_yticklabels(broccoli_cropData.columns)\n",
    "plt.show()"
   ]
  },
  {
   "cell_type": "code",
   "execution_count": null,
   "metadata": {},
   "outputs": [],
   "source": [
    "corr['cropWeight']"
   ]
  },
  {
   "cell_type": "code",
   "execution_count": null,
   "metadata": {},
   "outputs": [],
   "source": [
    "corr['cropUnripe']"
   ]
  },
  {
   "cell_type": "code",
   "execution_count": null,
   "metadata": {},
   "outputs": [],
   "source": [
    "for column in columnsCropLabels:    \n",
    "    sns.scatterplot(x='pixelCount_Integral', y=column, data=broccoli_cropData)\n",
    "    axes = plt.gca()\n",
    "    axes.set_ylim([-0.1,1.1])    \n",
    "    plt.show()"
   ]
  },
  {
   "cell_type": "code",
   "execution_count": null,
   "metadata": {},
   "outputs": [],
   "source": [
    "# Aufteilung der Daten in reife, unreife (Gewicht < 300g) Brokkoli\n",
    "broccoli_data_lastDate_unripe = broccoli_data_lastDate[broccoli_data_lastDate.cropWeight < 300]\n",
    "broccoli_data_lastDate_ripe = broccoli_data_lastDate[broccoli_data_lastDate.cropWeight >= 300]\n",
    "\n",
    "print(\"Anzahl unreife Brokkoli (Gewicht < 300g): \" + str(len(broccoli_data_lastDate_unripe)))\n",
    "print(\"Durchschnitt meanNDVI unreife: \" + str(broccoli_data_lastDate_unripe['meanNDVI'].mean()))\n",
    "print(\"Durchschnitt meanNDRE unreife: \" + str(broccoli_data_lastDate_unripe['meanNDRE'].mean()))\n",
    "print(\"Durchschnitt medianNDRE unreife: \" + str(broccoli_data_lastDate_unripe['medianNDRE'].mean()))\n",
    "print(\"Durchschnitt NDRE_85_QUANTILE unreife: \" + str(broccoli_data_lastDate_unripe['NDRE_85_QUANTILE'].mean()))\n",
    "print(\"Durchschnitt NDRE_15_QUANTILE unreife: \" + str(broccoli_data_lastDate_unripe['NDRE_15_QUANTILE'].mean()))\n",
    "print()\n",
    "print(\"Anzahl reife Brokkoli (Gewicht >= 300g): \" + str(len(broccoli_data_lastDate_ripe)))\n",
    "print(\"Durchschnitt meanNDVI reife: \" + str(broccoli_data_lastDate_ripe['meanNDVI'].mean()))\n",
    "print(\"Durchschnitt meanNDRE reife: \" + str(broccoli_data_lastDate_ripe['meanNDRE'].mean()))\n",
    "print(\"Durchschnitt medianNDRE reife: \" + str(broccoli_data_lastDate_ripe['medianNDRE'].mean()))\n",
    "print(\"Durchschnitt NDRE_85_QUANTILE reife: \" + str(broccoli_data_lastDate_ripe['NDRE_85_QUANTILE'].mean()))\n",
    "print(\"Durchschnitt NDRE_15_QUANTILE reife: \" + str(broccoli_data_lastDate_ripe['NDRE_15_QUANTILE'].mean()))"
   ]
  },
  {
   "cell_type": "markdown",
   "metadata": {},
   "source": [
    "## Meteomatics Daten"
   ]
  },
  {
   "cell_type": "code",
   "execution_count": null,
   "metadata": {},
   "outputs": [],
   "source": [
    "# Abfrage definieren und ausführen: Alle Meteomatics-Daten\n",
    "cnxn = pyodbc.connect('DRIVER='+driver+';SERVER='+server+';PORT=1433;DATABASE='+database+';UID='+username+';PWD='+ password)\n",
    "SQL_Query = pd.read_sql_query('SELECT * FROM dbo.meteomatics', cnxn)\n",
    "meteomatics_data = pd.DataFrame(SQL_Query)\n",
    "cnxn.close()\n",
    "\n",
    "meteomatics_data.head()"
   ]
  },
  {
   "cell_type": "code",
   "execution_count": null,
   "metadata": {},
   "outputs": [],
   "source": [
    "# Aggregieren der Meteomatics-Daten zwischen den Messzeitpunkten\n",
    "# Datum eine Woche vor erstem Messdatum hinzufügen -> Wetterdaten-Aggregation bis zu diesem Zeitpunkt\n",
    "i = 0\n",
    "meteomatics_aggregates = pd.DataFrame()\n",
    "dates_Meteomatics =['2019-04-11'] + dates\n",
    "while i < (len(dates_Meteomatics) - 1):\n",
    "    weekly_data = meteomatics_data[((meteomatics_data.timestamp > dates_Meteomatics[i]) & (meteomatics_data.timestamp < dates_Meteomatics[i+1]))][['temperature', 'precipitation', 'radiation', 'relativeHumidity', 'wind', 'cloudCover']]\n",
    "    weekly_data_agg = pd.DataFrame(weekly_data.agg(['mean']))\n",
    "    weekly_data_agg['dateFrom'] = dates_Meteomatics[i]\n",
    "    weekly_data_agg['dateTo'] = dates_Meteomatics[i+1]\n",
    "    weekly_data_agg['index'] = i\n",
    "    weekly_data_agg.set_index(['index'], inplace=True)\n",
    "    meteomatics_aggregates = pd.concat([meteomatics_aggregates, weekly_data_agg], axis=0)\n",
    "    \n",
    "    i = i + 1\n",
    "    \n",
    "display(meteomatics_aggregates)"
   ]
  },
  {
   "cell_type": "code",
   "execution_count": null,
   "metadata": {},
   "outputs": [],
   "source": [
    "broccoli_data_aggregates = pd.DataFrame()\n",
    "for date in dates:    \n",
    "    broccoli_data_byDate = broccoli_data[broccoli_data.timestamp == date][['meanNDVI', 'NDRE_85_QUANTILE', 'pixelCount']]\n",
    "    broccoli_data_byDate_agg = pd.DataFrame(broccoli_data_byDate.agg(['mean']))\n",
    "    broccoli_data_byDate_agg = broccoli_data_byDate_agg.add_prefix('meanAgg_')\n",
    "    broccoli_data_byDate_agg['date'] = date\n",
    "    #weekly_data_agg.set_index(['index'], inplace=True)\n",
    "    broccoli_data_aggregates = pd.concat([broccoli_data_aggregates, broccoli_data_byDate_agg], axis=0)\n",
    "    \n",
    "display(broccoli_data_aggregates)"
   ]
  },
  {
   "cell_type": "code",
   "execution_count": null,
   "metadata": {},
   "outputs": [],
   "source": [
    "#plt.plot(broccoli_data_aggregates['date'],broccoli_data_aggregates[['meanNDVI']])\n",
    "#plt.plot(meteomatics_aggregates['dateTo'],meteomatics_aggregates[['temperature', 'relativeHumidity','precipitation']])\n",
    "#plt.show\n",
    "\n",
    "meteomatics_aggregates.plot.line(x='dateTo', subplots=True, figsize=(10,8))\n",
    "broccoli_data_aggregates.plot.line(x='date', subplots=True, figsize=(10,8))"
   ]
  },
  {
   "cell_type": "code",
   "execution_count": null,
   "metadata": {},
   "outputs": [],
   "source": [
    "meteomatics_data_reindexed = meteomatics_data.copy()\n",
    "meteomatics_data_reindexed['timestamp'] = pd.to_datetime(meteomatics_data_reindexed['timestamp'])\n",
    "meteomatics_data_reindexed.set_index(\"timestamp\", drop=True, inplace=True)\n",
    "\n",
    "tmp_weather = meteomatics_data_reindexed.resample('D').median()\n",
    "tmp_weather = tmp_weather.add_prefix('median_')\n",
    "\n",
    "tmp_weather_sum = meteomatics_data_reindexed.resample('D').sum()\n",
    "tmp_weather['sum_precipitation'] = tmp_weather_sum['precipitation']\n",
    "tmp_weather['sum_accumulatedEnergy'] = tmp_weather_sum['accumulatedEnergy']\n",
    "\n",
    "print(tmp_weather.shape)\n",
    "tmp_weather.describe()"
   ]
  },
  {
   "cell_type": "code",
   "execution_count": null,
   "metadata": {},
   "outputs": [],
   "source": [
    "broccoli_data_reindexed = broccoli_data.copy()\n",
    "broccoli_data_reindexed['timestamp'] = pd.to_datetime(broccoli_data_reindexed['timestamp'])\n",
    "broccoli_data_reindexed.set_index(\"timestamp\", drop=True, inplace=True)\n",
    "\n",
    "tmp_broccoli = broccoli_data_reindexed.resample('D').median()\n",
    "tmp_broccoli.drop(['id', 'lat', 'long'], axis=1, inplace=True)\n",
    "tmp_broccoli = tmp_broccoli.add_prefix('median_')\n",
    "#tmp_broccoli.dropna(axis=0, inplace=True)\n",
    "\n",
    "print(tmp_broccoli.shape)\n",
    "tmp_broccoli.head()"
   ]
  },
  {
   "cell_type": "code",
   "execution_count": null,
   "metadata": {},
   "outputs": [],
   "source": [
    "weather_broccoli_daily = pd.concat([tmp_weather, tmp_broccoli], axis=1)\n",
    "weather_broccoli_daily = weather_broccoli_daily.interpolate(method='linear')\n",
    "weather_broccoli_daily = weather_broccoli_daily.drop(columns=['median_hail','median_frostDepth'])\n",
    "print(weather_broccoli_daily.shape)\n",
    "weather_broccoli_daily"
   ]
  },
  {
   "cell_type": "code",
   "execution_count": null,
   "metadata": {},
   "outputs": [],
   "source": [
    "plt.figure(figsize=(15,6))\n",
    "plt.subplot(2,1,1)\n",
    "plt.xlabel('meanNDVI vs. temperature')\n",
    "\n",
    "ax1 = weather_broccoli_daily['median_meanNDVI'].plot(color='blue', grid=True, label='meanNDVI')\n",
    "ax3 = weather_broccoli_daily['median_meanNDRE'].plot(color='green', grid=True, label='meanNDRE', sharey=ax1)\n",
    "\n",
    "ax2 = weather_broccoli_daily['median_temperature'].plot(color='red', grid=True, secondary_y=True, label='temperature')\n",
    "ax4 = weather_broccoli_daily['median_absoluteHumidity'].plot(color='orange', grid=True, secondary_y=True, label='absoluteHumidity',\n",
    "                                                      sharey=ax2)\n",
    "ax6 = weather_broccoli_daily['median_evaporation'].plot(color='brown', grid=True, label='evaporation',\n",
    "                                                      sharey=ax2)\n",
    "\n",
    "h1, l1 = ax1.get_legend_handles_labels()\n",
    "h2, l2 = ax2.get_legend_handles_labels()\n",
    "\n",
    "plt.legend(h1+h2, l1+l2, loc=2)\n",
    "\n",
    "plt.subplot(2,1,2)\n",
    "ax5 = weather_broccoli_daily['median_pixelCount'].plot(color='black', grid=True, secondary_y=False, label='pixelCount')\n",
    "\n",
    "h5, l5 = ax5.get_legend_handles_labels()\n",
    "\n",
    "plt.legend(h5, l5, loc=2)\n",
    "\n",
    "plt.show()"
   ]
  },
  {
   "cell_type": "code",
   "execution_count": null,
   "metadata": {},
   "outputs": [],
   "source": [
    "#weather_broccoli_daily.plot(x='median_pixelCount', y=['median_meanNDRE','median_meanNDVI'])"
   ]
  },
  {
   "cell_type": "code",
   "execution_count": null,
   "metadata": {
    "scrolled": true
   },
   "outputs": [],
   "source": [
    "corr = weather_broccoli_daily.corr()\n",
    "fig = plt.figure(figsize=(20,20))\n",
    "ax = fig.add_subplot(111)\n",
    "cax = ax.matshow(corr,cmap='coolwarm', vmin=-1, vmax=1)\n",
    "fig.colorbar(cax)\n",
    "ticks = np.arange(0,len(weather_broccoli_daily.columns),1)\n",
    "ax.set_xticks(ticks)\n",
    "plt.xticks(rotation=90)\n",
    "ax.set_yticks(ticks)\n",
    "ax.set_xticklabels(weather_broccoli_daily.columns)\n",
    "ax.set_yticklabels(weather_broccoli_daily.columns)\n",
    "plt.show()"
   ]
  },
  {
   "cell_type": "code",
   "execution_count": null,
   "metadata": {},
   "outputs": [],
   "source": [
    "plt.figure(figsize=(15,6))\n",
    "plt.subplot(2,1,1)\n",
    "plt.xlabel('meanNDVI, meanNDRE vs. temperature')\n",
    "\n",
    "ax1 = weather_broccoli_daily['median_meanNDVI'].plot(color='blue', grid=True, label='meanNDVI')\n",
    "\n",
    "#ax2 = weather_broccoli_daily['relativeHumidity'].plot(color='red', grid=True, secondary_y=True, label='relativeHumidity', sharey=ax2)\n",
    "#ax4 = weather_broccoli_daily['absoluteHumidity'].plot(color='orange', grid=True, secondary_y=True, label='absoluteHumidity', sharey=ax2)\n",
    "#ax5 = weather_broccoli_daily['dewPoint'].plot(color='green', grid=True, secondary_y=True, label='dewPoint', sharey=ax2)\n",
    "#ax6 = weather_broccoli_daily['radiation'].plot(color='violet', grid=True, secondary_y=True, label='radiation', sharey=ax2)\n",
    "#ax7 = weather_broccoli_daily['growingDegreeDays'].plot(color='black', grid=True, secondary_y=False, label='growingDegreeDays', sharey=ax2)\n",
    "\n",
    "h1, l1 = ax1.get_legend_handles_labels()\n",
    "#h2, l2 = ax2.get_legend_handles_labels()\n",
    "\n",
    "plt.legend(h1, l1, loc=2)\n",
    "\n",
    "plt.subplot(2,1,2)\n",
    "ax3 = weather_broccoli_daily['median_meanNDRE'].plot(color='green', grid=True, label='meanNDRE')\n",
    "#ax8 = weather_broccoli_daily['relativeHumidity'].plot(color='red', grid=True, secondary_y=True, label='relativeHumidity')\n",
    "#ax9 = weather_broccoli_daily['absoluteHumidity'].plot(color='orange', grid=True, secondary_y=True, label='absoluteHumidity', sharey=ax8)\n",
    "#ax10 = weather_broccoli_daily['dewPoint'].plot(color='green', grid=True, secondary_y=True, label='dewPoint', sharey=ax8)\n",
    "#ax11 = weather_broccoli_daily['radiation'].plot(color='violet', grid=True, secondary_y=True, label='radiation', sharey=ax8)\n",
    "#ax12 = weather_broccoli_daily['growingDegreeDays'].plot(color='black', grid=True, secondary_y=True, label='growingDegreeDays',sharey=ax8)\n",
    "\n",
    "h5, l5 = ax3.get_legend_handles_labels()\n",
    "#h6, l6 = ax8.get_legend_handles_labels()\n",
    "\n",
    "plt.legend(h5, l5, loc=2)\n",
    "\n",
    "plt.show()"
   ]
  },
  {
   "cell_type": "code",
   "execution_count": null,
   "metadata": {},
   "outputs": [],
   "source": []
  }
 ],
 "metadata": {
  "kernelspec": {
   "display_name": "Python 3",
   "language": "python",
   "name": "python3"
  },
  "language_info": {
   "codemirror_mode": {
    "name": "ipython",
    "version": 3
   },
   "file_extension": ".py",
   "mimetype": "text/x-python",
   "name": "python",
   "nbconvert_exporter": "python",
   "pygments_lexer": "ipython3",
   "version": "3.7.1"
  }
 },
 "nbformat": 4,
 "nbformat_minor": 2
}
